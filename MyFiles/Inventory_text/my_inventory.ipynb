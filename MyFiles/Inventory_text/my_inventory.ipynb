{
 "cells": [
  {
   "cell_type": "markdown",
   "id": "8dd30aa7-bcd3-432e-a2f3-c2998c7f43aa",
   "metadata": {},
   "source": [
    "## product details\n",
    "1. product Id\n",
    "2. name of product\n",
    "3. price of product\n",
    "4. quantity"
   ]
  },
  {
   "cell_type": "code",
   "execution_count": 5,
   "id": "015c7fa9-2535-416c-90b0-5203b94dfc3a",
   "metadata": {},
   "outputs": [],
   "source": [
    "fd=open(\"inventory.txt\",\"r\")\n",
    "\n",
    "products=fd.read().split(\"\\n\")\n",
    "\n",
    "fd.close()"
   ]
  },
  {
   "cell_type": "code",
   "execution_count": 13,
   "id": "f65cf2d0-355e-4098-a5c4-835033319e7d",
   "metadata": {},
   "outputs": [
    {
     "name": "stdout",
     "output_type": "stream",
     "text": [
      "1,5 star,5,100\n",
      "2,kitkat,10,200\n",
      "3,dairymilk,20,150\n",
      "4,candy,10,200\n"
     ]
    }
   ],
   "source": [
    "for i in products:\n",
    "    print(i)"
   ]
  },
  {
   "cell_type": "code",
   "execution_count": 23,
   "id": "0daea53e-ee16-49bb-b76b-2b3b849a01c1",
   "metadata": {},
   "outputs": [
    {
     "name": "stdin",
     "output_type": "stream",
     "text": [
      "Enter your name : dilkash\n",
      "Enter your phone no : 5131312131\n",
      "Enter your email : abc@gmail\n",
      "Enter product id : 2\n",
      "Enter product quantity : 6\n"
     ]
    },
    {
     "name": "stdout",
     "output_type": "stream",
     "text": [
      "------------------------------\n",
      "Product Name       : KitKat\n",
      "Price of Product   : 10\n",
      "Qunatity of Product: 6\n",
      "------------------------------\n",
      "Billing Amount     : 60\n",
      "------------------------------\n",
      "-----------------\n",
      "Inventory updated\n"
     ]
    }
   ],
   "source": [
    "\n",
    "import time\n",
    "#reding the inventory\n",
    "fd=open(\"inventory.txt\",\"r\")\n",
    "\n",
    "products=fd.read().split(\"\\n\")\n",
    "\n",
    "fd.close()\n",
    "# taking input from user\n",
    "user_name  =input(\"Enter your name :\")\n",
    "user_phone =input(\"Enter your phone no :\")\n",
    "user_mail  =input(\"Enter your email :\")\n",
    "ui_pro_id  =input(\"Enter product id :\")\n",
    "ui_pro_qn  =input(\"Enter product quantity :\")\n",
    "\n",
    "updated_product_list=[]\n",
    "\n",
    "#going through each product details\n",
    "for product in products:\n",
    "    product_details=product.split(\",\")\n",
    "    \n",
    "    # checking product id exit or not\n",
    "    if (product.split(\",\")[0]==ui_pro_id):\n",
    "\n",
    "        #if we are having enough quantity\n",
    "        if int(ui_pro_qn)<= int(product_details[3]):\n",
    "            print(\"-\"*30)\n",
    "            print(\"Product Name       :\",product_details[1])\n",
    "            print(\"Price of Product   :\",product_details[2])\n",
    "            print(\"Qunatity of Product:\",ui_pro_qn)\n",
    "            print(\"-\"*30)\n",
    "            print(\"Billing Amount     :\",int(ui_pro_qn)*int(product_details[2]))\n",
    "            print(\"-\"*30)\n",
    "            # updating inventory list\n",
    "            product_details[3]=str(int(product_details[3])-int(ui_pro_qn))\n",
    "            fd=open(\"sales.txt\",\"a\")\n",
    "            sales_details=user_name+\",\"+ user_phone+\",\"+ user_mail + \",\" + ui_pro_id +\",\"+ product_details[1] +\",\"+ ui_pro_qn +\",\"+ str(int(ui_pro_qn)*int(product_details[2]))+\",\"+time.ctime()+\"\\n\"\n",
    "            fd.write(sales_details)\n",
    "            \n",
    "        \n",
    "        # if we are not having enough quantity   \n",
    "        else:\n",
    "          print(\"sorry we are not having enough quantity.\")\n",
    "          print(\"we are having only\",product_details[3],\"quantity.\")\n",
    "          print(\"would you like to purchse it?\")\n",
    "\n",
    "          ch=input(\"press Y/N\")\n",
    "\n",
    "         #if you want to purchase with enough quantity\n",
    "          if (ch==\"Y\" or ch==\"y\"):\n",
    "              print(\"-\"*30)\n",
    "              print(\"Product Name       :\",product_details[1])\n",
    "              print(\"Price of Product   :\",product_details[2])\n",
    "              print(\"Qunatity of Product:\",product_details[3])\n",
    "              print(\"-\"*30)\n",
    "              print(\"Billing Amount     :\",int(product_details[3])*int(product_details[2]))\n",
    "              print(\"-\"*30)\n",
    "\n",
    "              product_details[3]='0'\n",
    "              \n",
    "          else:\n",
    "              print(\"Thanks!\")\n",
    "            \n",
    "        \n",
    "\n",
    "     # updating my inventory list\n",
    "    updated_product_list.append(product_details)\n",
    "        \n",
    "list=[]\n",
    "\n",
    "# updating my inventory string\n",
    "for i in updated_product_list:\n",
    "    prod=i[0] +\",\"+ i[1] +\",\"+ i[2] +\",\"+ i[3] + \"\\n\"\n",
    "    list.append(prod)\n",
    "list[-1]=list[-1][:-1]\n",
    "\n",
    "#updating inventory file\n",
    "fd=open(\"inventory.txt\",\"w\")\n",
    "\n",
    "for i in list:\n",
    "    fd.write(i)\n",
    "\n",
    "fd.close() \n",
    "\n",
    "\n",
    "print(\"-----------------\")\n",
    "print(\"Inventory updated\")\n",
    "    \n",
    "        "
   ]
  },
  {
   "cell_type": "code",
   "execution_count": 21,
   "id": "053ae045-061a-4dd9-97cb-2222eb9674b5",
   "metadata": {},
   "outputs": [
    {
     "data": {
      "text/plain": [
       "'Sat Jun  1 21:21:50 2024'"
      ]
     },
     "execution_count": 21,
     "metadata": {},
     "output_type": "execute_result"
    }
   ],
   "source": [
    "import time\n",
    "time.ctime()"
   ]
  },
  {
   "cell_type": "code",
   "execution_count": 27,
   "id": "1507b7cb-2ee2-45a4-9a32-05281c7f1624",
   "metadata": {},
   "outputs": [
    {
     "name": "stdout",
     "output_type": "stream",
     "text": [
      "['1', '5 star', '5', '80']\n",
      "['2', 'KitKat', '10', '189']\n",
      "['3', 'DairyMilk', '20', '300']\n",
      "['4', 'Perk', '5', '0']\n",
      "['5', 'Milky', '15', '0']\n"
     ]
    }
   ],
   "source": [
    "for i in updated_product_list:\n",
    "    print(i)\n",
    "    "
   ]
  },
  {
   "cell_type": "code",
   "execution_count": null,
   "id": "46d2e08a-46f7-4dd0-bbbf-f74e9ae9d007",
   "metadata": {},
   "outputs": [],
   "source": []
  }
 ],
 "metadata": {
  "kernelspec": {
   "display_name": "Python 3 (ipykernel)",
   "language": "python",
   "name": "python3"
  },
  "language_info": {
   "codemirror_mode": {
    "name": "ipython",
    "version": 3
   },
   "file_extension": ".py",
   "mimetype": "text/x-python",
   "name": "python",
   "nbconvert_exporter": "python",
   "pygments_lexer": "ipython3",
   "version": "3.11.7"
  }
 },
 "nbformat": 4,
 "nbformat_minor": 5
}
