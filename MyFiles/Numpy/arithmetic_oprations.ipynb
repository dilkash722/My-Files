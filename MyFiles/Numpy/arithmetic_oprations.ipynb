{
 "cells": [
  {
   "cell_type": "code",
   "execution_count": 1,
   "id": "7fbff28e-5764-41af-bd93-b88edb6b6220",
   "metadata": {},
   "outputs": [],
   "source": [
    "import numpy as np"
   ]
  },
  {
   "cell_type": "code",
   "execution_count": 3,
   "id": "0c198ac6-40a2-43ee-8ce7-9ab9e76564b8",
   "metadata": {},
   "outputs": [],
   "source": [
    "arr=np.array([1,2,3,4,5])"
   ]
  },
  {
   "cell_type": "code",
   "execution_count": 4,
   "id": "a738188a-f1d4-4fd9-93cc-62188247c6f7",
   "metadata": {},
   "outputs": [
    {
     "data": {
      "text/plain": [
       "array([1, 2, 3, 4, 5])"
      ]
     },
     "execution_count": 4,
     "metadata": {},
     "output_type": "execute_result"
    }
   ],
   "source": [
    "arr"
   ]
  },
  {
   "cell_type": "code",
   "execution_count": 6,
   "id": "be0cd4fd-e48a-4ac9-8a79-f9cc6b879c51",
   "metadata": {},
   "outputs": [
    {
     "name": "stdout",
     "output_type": "stream",
     "text": [
      "--------------\n",
      "[2 3 4 5 6]\n",
      "--------------\n",
      "[0 1 2 3 4]\n",
      "--------------\n",
      "[ 2  4  6  8 10]\n",
      "--------------\n",
      "[0.5 1.  1.5 2.  2.5]\n",
      "--------------\n",
      "[ 1  4  9 16 25]\n",
      "--------------\n",
      "[1 0 1 0 1]\n"
     ]
    }
   ],
   "source": [
    "print(\"*\"\n",
    "print(arr+1)\n",
    "print(\"--------------\")\n",
    "print(arr-1)\n",
    "print(\"--------------\")\n",
    "print(arr*2)\n",
    "print(\"--------------\")\n",
    "print(arr/2)\n",
    "print(\"--------------\")\n",
    "print(arr**2)\n",
    "print(\"--------------\")\n",
    "print(arr%2)"
   ]
  },
  {
   "cell_type": "code",
   "execution_count": 7,
   "id": "51e690bf-402d-4876-b1a1-86aa2f25e743",
   "metadata": {},
   "outputs": [
    {
     "data": {
      "text/plain": [
       "array([1, 2, 3, 4, 5])"
      ]
     },
     "execution_count": 7,
     "metadata": {},
     "output_type": "execute_result"
    }
   ],
   "source": [
    "arr\n"
   ]
  },
  {
   "cell_type": "code",
   "execution_count": 8,
   "id": "a4627e9d-d216-46b4-8878-34b3c966e106",
   "metadata": {},
   "outputs": [],
   "source": [
    "arr=np.array([1, 2, 3, 4, 5,6])\n"
   ]
  },
  {
   "cell_type": "code",
   "execution_count": 9,
   "id": "80ade286-d4ee-4440-bc68-f326379463e8",
   "metadata": {},
   "outputs": [
    {
     "data": {
      "text/plain": [
       "array([1, 2, 3, 4, 5, 6])"
      ]
     },
     "execution_count": 9,
     "metadata": {},
     "output_type": "execute_result"
    }
   ],
   "source": [
    "arr\n"
   ]
  },
  {
   "cell_type": "code",
   "execution_count": 10,
   "id": "087fd69a-2fd3-456e-ac17-8304cf6044ab",
   "metadata": {},
   "outputs": [],
   "source": [
    "arr1=arr.reshape(3,2)\n"
   ]
  },
  {
   "cell_type": "code",
   "execution_count": 11,
   "id": "e8ca7a38-5ec6-4596-979b-b418a2091dd0",
   "metadata": {},
   "outputs": [
    {
     "data": {
      "text/plain": [
       "array([[1, 2],\n",
       "       [3, 4],\n",
       "       [5, 6]])"
      ]
     },
     "execution_count": 11,
     "metadata": {},
     "output_type": "execute_result"
    }
   ],
   "source": [
    "arr1"
   ]
  },
  {
   "cell_type": "code",
   "execution_count": 12,
   "id": "3bd8d754-c301-4d34-87fd-884a72642412",
   "metadata": {},
   "outputs": [
    {
     "data": {
      "text/plain": [
       "array([1, 2, 3, 4, 5, 6])"
      ]
     },
     "execution_count": 12,
     "metadata": {},
     "output_type": "execute_result"
    }
   ],
   "source": [
    "arr"
   ]
  },
  {
   "cell_type": "code",
   "execution_count": 13,
   "id": "26861573-3e62-4cb3-ac18-7ac233a8a270",
   "metadata": {},
   "outputs": [
    {
     "data": {
      "text/plain": [
       "21"
      ]
     },
     "execution_count": 13,
     "metadata": {},
     "output_type": "execute_result"
    }
   ],
   "source": [
    "arr1.sum()"
   ]
  },
  {
   "cell_type": "code",
   "execution_count": 14,
   "id": "498c0a73-0075-4cdd-ac22-36a5307c46a3",
   "metadata": {},
   "outputs": [
    {
     "data": {
      "text/plain": [
       "6"
      ]
     },
     "execution_count": 14,
     "metadata": {},
     "output_type": "execute_result"
    }
   ],
   "source": [
    "arr.max()"
   ]
  },
  {
   "cell_type": "code",
   "execution_count": 15,
   "id": "f3998b33-953c-4d87-a410-6eed3956748f",
   "metadata": {},
   "outputs": [
    {
     "data": {
      "text/plain": [
       "1"
      ]
     },
     "execution_count": 15,
     "metadata": {},
     "output_type": "execute_result"
    }
   ],
   "source": [
    "arr.min()"
   ]
  },
  {
   "cell_type": "code",
   "execution_count": 19,
   "id": "38d50a98-2b94-4e46-9265-91743315f89c",
   "metadata": {},
   "outputs": [
    {
     "data": {
      "text/plain": [
       "array([5, 6])"
      ]
     },
     "execution_count": 19,
     "metadata": {},
     "output_type": "execute_result"
    }
   ],
   "source": [
    "# max element column-wise\n",
    "arr1.max(axis=0)    "
   ]
  },
  {
   "cell_type": "code",
   "execution_count": 20,
   "id": "26042009-1103-4845-9ea0-923a92265e93",
   "metadata": {},
   "outputs": [
    {
     "data": {
      "text/plain": [
       "array([2, 4, 6])"
      ]
     },
     "execution_count": 20,
     "metadata": {},
     "output_type": "execute_result"
    }
   ],
   "source": [
    "# max element row-wise\n",
    "arr1.max(axis=1)     "
   ]
  },
  {
   "cell_type": "code",
   "execution_count": 21,
   "id": "7d36df23-c40b-4db4-adcd-68efaeeb2a81",
   "metadata": {},
   "outputs": [
    {
     "data": {
      "text/plain": [
       "array([1, 2])"
      ]
     },
     "execution_count": 21,
     "metadata": {},
     "output_type": "execute_result"
    }
   ],
   "source": [
    "# min element column-wise\n",
    "arr1.min(axis=0)     "
   ]
  },
  {
   "cell_type": "code",
   "execution_count": null,
   "id": "cac0f32d-13fe-44e2-9ceb-8c4b3aaacda0",
   "metadata": {},
   "outputs": [],
   "source": [
    "# min element column-wise\n",
    "arr1.min(axis=1)      "
   ]
  }
 ],
 "metadata": {
  "kernelspec": {
   "display_name": "Python 3 (ipykernel)",
   "language": "python",
   "name": "python3"
  },
  "language_info": {
   "codemirror_mode": {
    "name": "ipython",
    "version": 3
   },
   "file_extension": ".py",
   "mimetype": "text/x-python",
   "name": "python",
   "nbconvert_exporter": "python",
   "pygments_lexer": "ipython3",
   "version": "3.11.7"
  }
 },
 "nbformat": 4,
 "nbformat_minor": 5
}
