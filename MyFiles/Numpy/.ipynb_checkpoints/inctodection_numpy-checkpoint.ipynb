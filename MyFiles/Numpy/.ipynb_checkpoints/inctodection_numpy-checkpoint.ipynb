{
 "cells": [
  {
   "cell_type": "code",
   "execution_count": 1,
   "id": "ed950869-5f10-46df-a061-2cbf4543a0d1",
   "metadata": {},
   "outputs": [
    {
     "name": "stdout",
     "output_type": "stream",
     "text": [
      "Defaulting to user installation because normal site-packages is not writeable\n",
      "Requirement already satisfied: numpy in c:\\programdata\\anaconda3\\lib\\site-packages (1.26.4)\n"
     ]
    }
   ],
   "source": [
    "!pip install numpy"
   ]
  },
  {
   "cell_type": "code",
   "execution_count": 2,
   "id": "6e7d2a41-8296-4f7e-9c22-7196027fdb11",
   "metadata": {},
   "outputs": [],
   "source": [
    "import numpy as np"
   ]
  },
  {
   "cell_type": "code",
   "execution_count": 3,
   "id": "ccedb0ef-66d3-4c97-bb32-e09dc1d90e6b",
   "metadata": {},
   "outputs": [
    {
     "data": {
      "text/plain": [
       "<module 'numpy' from 'C:\\\\ProgramData\\\\anaconda3\\\\Lib\\\\site-packages\\\\numpy\\\\__init__.py'>"
      ]
     },
     "execution_count": 3,
     "metadata": {},
     "output_type": "execute_result"
    }
   ],
   "source": [
    "np"
   ]
  },
  {
   "cell_type": "code",
   "execution_count": 4,
   "id": "bf3f94cb-034b-4085-92e9-7f997e66275d",
   "metadata": {},
   "outputs": [],
   "source": [
    "lst=[1,2,3,4,5]"
   ]
  },
  {
   "cell_type": "code",
   "execution_count": 5,
   "id": "7eee81e5-5533-4262-b122-3cd3fab52f43",
   "metadata": {},
   "outputs": [
    {
     "data": {
      "text/plain": [
       "[1, 2, 3, 4, 5]"
      ]
     },
     "execution_count": 5,
     "metadata": {},
     "output_type": "execute_result"
    }
   ],
   "source": []
  },
  {
   "cell_type": "code",
   "execution_count": 6,
   "id": "b8eb70fa-8f1f-4d8b-86e4-d23ffa06358a",
   "metadata": {},
   "outputs": [
    {
     "data": {
      "text/plain": [
       "list"
      ]
     },
     "execution_count": 6,
     "metadata": {},
     "output_type": "execute_result"
    }
   ],
   "source": [
    "type(lst)"
   ]
  },
  {
   "cell_type": "code",
   "execution_count": 58,
   "id": "288bc4ea-720b-4ea6-837e-85470b96c204",
   "metadata": {},
   "outputs": [],
   "source": [
    "zeros=np.zeros((3,4))"
   ]
  },
  {
   "cell_type": "code",
   "execution_count": 59,
   "id": "a7676462-7edd-4f4a-a93c-9ac8b4a7416b",
   "metadata": {},
   "outputs": [
    {
     "data": {
      "text/plain": [
       "array([[0., 0., 0., 0.],\n",
       "       [0., 0., 0., 0.],\n",
       "       [0., 0., 0., 0.]])"
      ]
     },
     "execution_count": 59,
     "metadata": {},
     "output_type": "execute_result"
    }
   ],
   "source": [
    "zeros"
   ]
  },
  {
   "cell_type": "code",
   "execution_count": 75,
   "id": "59285af6-9e8b-4909-bc4b-83ced35c69d7",
   "metadata": {},
   "outputs": [
    {
     "ename": "ValueError",
     "evalue": "cannot reshape array of size 12 into shape (2,3)",
     "output_type": "error",
     "traceback": [
      "\u001b[1;31m---------------------------------------------------------------------------\u001b[0m",
      "\u001b[1;31mValueError\u001b[0m                                Traceback (most recent call last)",
      "Cell \u001b[1;32mIn[75], line 1\u001b[0m\n\u001b[1;32m----> 1\u001b[0m arr\u001b[38;5;241m=\u001b[39mzeros\u001b[38;5;241m.\u001b[39mreshape(\u001b[38;5;241m2\u001b[39m,\u001b[38;5;241m3\u001b[39m)\n",
      "\u001b[1;31mValueError\u001b[0m: cannot reshape array of size 12 into shape (2,3)"
     ]
    }
   ],
   "source": []
  },
  {
   "cell_type": "code",
   "execution_count": 79,
   "id": "ae5ac23e-9cda-46e8-beb8-1b66c47cf5e7",
   "metadata": {},
   "outputs": [],
   "source": [
    "arr=np.random.random((5,6))"
   ]
  },
  {
   "cell_type": "code",
   "execution_count": 64,
   "id": "53e03eeb-e108-4d2f-a629-114acbde001f",
   "metadata": {},
   "outputs": [
    {
     "data": {
      "text/plain": [
       "array([[0.39966806, 0.02320804, 0.82016022],\n",
       "       [0.41767997, 0.21562296, 0.98969947],\n",
       "       [0.84351061, 0.73175896, 0.45502339],\n",
       "       [0.30068127, 0.24612906, 0.16634352]])"
      ]
     },
     "execution_count": 64,
     "metadata": {},
     "output_type": "execute_result"
    }
   ],
   "source": [
    "arr"
   ]
  },
  {
   "cell_type": "code",
   "execution_count": 83,
   "id": "3c908872-be87-4e06-adef-971feb735d53",
   "metadata": {},
   "outputs": [],
   "source": [
    "array=np.reshape(arr,(6,5))"
   ]
  },
  {
   "cell_type": "code",
   "execution_count": 84,
   "id": "d4e14057-eeda-4b5c-b122-3f2f3be5aff4",
   "metadata": {},
   "outputs": [
    {
     "data": {
      "text/plain": [
       "array([[0.56754129, 0.49723017, 0.94128554, 0.70646218, 0.73488611],\n",
       "       [0.43635125, 0.84257176, 0.08052241, 0.11720042, 0.73028439],\n",
       "       [0.95568328, 0.06220232, 0.00940507, 0.47611683, 0.12048493],\n",
       "       [0.24772752, 0.6333887 , 0.37909774, 0.80402313, 0.33895657],\n",
       "       [0.1961491 , 0.98890133, 0.74602701, 0.48079711, 0.37101716],\n",
       "       [0.25251163, 0.62725008, 0.30532499, 0.36302948, 0.13393003]])"
      ]
     },
     "execution_count": 84,
     "metadata": {},
     "output_type": "execute_result"
    }
   ],
   "source": [
    "array"
   ]
  },
  {
   "cell_type": "code",
   "execution_count": 90,
   "id": "c1afde30-44c7-471e-bb62-51ecf15a009a",
   "metadata": {},
   "outputs": [],
   "source": [
    "arr1=array.reshape((5,6))"
   ]
  },
  {
   "cell_type": "code",
   "execution_count": 91,
   "id": "a5f25762-59c0-4806-ae5a-3c253dd7f814",
   "metadata": {},
   "outputs": [
    {
     "data": {
      "text/plain": [
       "array([[0.56754129, 0.49723017, 0.94128554, 0.70646218, 0.73488611,\n",
       "        0.43635125],\n",
       "       [0.84257176, 0.08052241, 0.11720042, 0.73028439, 0.95568328,\n",
       "        0.06220232],\n",
       "       [0.00940507, 0.47611683, 0.12048493, 0.24772752, 0.6333887 ,\n",
       "        0.37909774],\n",
       "       [0.80402313, 0.33895657, 0.1961491 , 0.98890133, 0.74602701,\n",
       "        0.48079711],\n",
       "       [0.37101716, 0.25251163, 0.62725008, 0.30532499, 0.36302948,\n",
       "        0.13393003]])"
      ]
     },
     "execution_count": 91,
     "metadata": {},
     "output_type": "execute_result"
    }
   ],
   "source": [
    "arr1"
   ]
  },
  {
   "cell_type": "code",
   "execution_count": null,
   "id": "e59a5dd0-9cc0-4585-8e15-1a79dc27788e",
   "metadata": {},
   "outputs": [],
   "source": []
  }
 ],
 "metadata": {
  "kernelspec": {
   "display_name": "Python 3 (ipykernel)",
   "language": "python",
   "name": "python3"
  },
  "language_info": {
   "codemirror_mode": {
    "name": "ipython",
    "version": 3
   },
   "file_extension": ".py",
   "mimetype": "text/x-python",
   "name": "python",
   "nbconvert_exporter": "python",
   "pygments_lexer": "ipython3",
   "version": "3.11.7"
  }
 },
 "nbformat": 4,
 "nbformat_minor": 5
}
