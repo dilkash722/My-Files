{
 "cells": [
  {
   "cell_type": "code",
   "execution_count": 1,
   "id": "147e1c13-0c51-40e4-ab02-d55b72bec120",
   "metadata": {},
   "outputs": [
    {
     "name": "stdout",
     "output_type": "stream",
     "text": [
      "Defaulting to user installation because normal site-packages is not writeable\n",
      "Requirement already satisfied: pandas in c:\\programdata\\anaconda3\\lib\\site-packages (2.1.4)\n",
      "Requirement already satisfied: numpy<2,>=1.23.2 in c:\\programdata\\anaconda3\\lib\\site-packages (from pandas) (1.26.4)\n",
      "Requirement already satisfied: python-dateutil>=2.8.2 in c:\\programdata\\anaconda3\\lib\\site-packages (from pandas) (2.8.2)\n",
      "Requirement already satisfied: pytz>=2020.1 in c:\\programdata\\anaconda3\\lib\\site-packages (from pandas) (2023.3.post1)\n",
      "Requirement already satisfied: tzdata>=2022.1 in c:\\programdata\\anaconda3\\lib\\site-packages (from pandas) (2023.3)\n",
      "Requirement already satisfied: six>=1.5 in c:\\programdata\\anaconda3\\lib\\site-packages (from python-dateutil>=2.8.2->pandas) (1.16.0)\n"
     ]
    }
   ],
   "source": [
    "!pip install pandas"
   ]
  },
  {
   "cell_type": "code",
   "execution_count": 2,
   "id": "f1d00540-3595-4d61-b5be-390ae1b74e3f",
   "metadata": {},
   "outputs": [],
   "source": [
    "import numpy as np\n",
    "import pandas as pd"
   ]
  },
  {
   "cell_type": "code",
   "execution_count": 3,
   "id": "b615f041-f42b-4e12-9b5c-80103635ee6c",
   "metadata": {},
   "outputs": [
    {
     "name": "stdout",
     "output_type": "stream",
     "text": [
      "2.1.4\n",
      "1.26.4\n"
     ]
    }
   ],
   "source": [
    "print(pd.__version__)\n",
    "print(np.__version__)"
   ]
  },
  {
   "cell_type": "code",
   "execution_count": 4,
   "id": "fdb30d6d-f012-4f63-a6d4-4f38a4bfeda9",
   "metadata": {},
   "outputs": [
    {
     "data": {
      "text/plain": [
       "0    1\n",
       "1    2\n",
       "2    3\n",
       "3    4\n",
       "4    5\n",
       "5    6\n",
       "dtype: int64"
      ]
     },
     "execution_count": 4,
     "metadata": {},
     "output_type": "execute_result"
    }
   ],
   "source": [
    "lst=[1,2,3,4,5,6]\n",
    "lst\n",
    "pd.Series(lst)"
   ]
  },
  {
   "cell_type": "code",
   "execution_count": 5,
   "id": "0923dd4c-1083-4b1d-b5e7-a998833f2969",
   "metadata": {},
   "outputs": [
    {
     "data": {
      "text/plain": [
       "0    1\n",
       "1    2\n",
       "2    3\n",
       "3    4\n",
       "4    5\n",
       "5    6\n",
       "dtype: int32"
      ]
     },
     "execution_count": 5,
     "metadata": {},
     "output_type": "execute_result"
    }
   ],
   "source": [
    "arr=np.array([1,2,3,4,5,6])\n",
    "pd.Series(arr)"
   ]
  },
  {
   "cell_type": "code",
   "execution_count": 6,
   "id": "ab2ff3f3-f455-49ae-a854-bb5c3fc94ef7",
   "metadata": {},
   "outputs": [
    {
     "data": {
      "text/plain": [
       "Ramseh    1\n",
       "Mohan     2\n",
       "Rakesh    3\n",
       "Daniel    4\n",
       "dtype: int64"
      ]
     },
     "execution_count": 6,
     "metadata": {},
     "output_type": "execute_result"
    }
   ],
   "source": [
    "pd.Series(index=[\"Ramseh\",\"Mohan\",\"Rakesh\",\"Daniel\"],data=[1,2,3,4])"
   ]
  },
  {
   "cell_type": "markdown",
   "id": "cb27ccb3-a731-4ae9-ba21-692c8f082dba",
   "metadata": {},
   "source": [
    "# Aggregate function"
   ]
  },
  {
   "cell_type": "code",
   "execution_count": 7,
   "id": "0e012ba1-84e0-4a5e-8e5c-4e1104fe9523",
   "metadata": {},
   "outputs": [
    {
     "name": "stderr",
     "output_type": "stream",
     "text": [
      "C:\\Users\\dilka\\AppData\\Local\\Temp\\ipykernel_6768\\3375669382.py:2: FutureWarning: The provided callable <built-in function min> is currently using Series.min. In a future version of pandas, the provided callable will be used directly. To keep current behavior pass the string \"min\" instead.\n",
      "  sr.agg([min,max,sum])\n",
      "C:\\Users\\dilka\\AppData\\Local\\Temp\\ipykernel_6768\\3375669382.py:2: FutureWarning: The provided callable <built-in function max> is currently using Series.max. In a future version of pandas, the provided callable will be used directly. To keep current behavior pass the string \"max\" instead.\n",
      "  sr.agg([min,max,sum])\n",
      "C:\\Users\\dilka\\AppData\\Local\\Temp\\ipykernel_6768\\3375669382.py:2: FutureWarning: The provided callable <built-in function sum> is currently using Series.sum. In a future version of pandas, the provided callable will be used directly. To keep current behavior pass the string \"sum\" instead.\n",
      "  sr.agg([min,max,sum])\n"
     ]
    },
    {
     "data": {
      "text/plain": [
       "min     1\n",
       "max     6\n",
       "sum    21\n",
       "dtype: int64"
      ]
     },
     "execution_count": 7,
     "metadata": {},
     "output_type": "execute_result"
    }
   ],
   "source": [
    "sr=pd.Series([1,2,3,4,5,6])\n",
    "sr.agg([min,max,sum])\n"
   ]
  },
  {
   "cell_type": "code",
   "execution_count": 8,
   "id": "d5a3c009-e441-442f-9164-bf74de4e9fac",
   "metadata": {},
   "outputs": [],
   "source": [
    "steps=pd.Series({\"day1\":1000,\"day2\":2000,\"day3\":3000,\"day4\":4000})"
   ]
  },
  {
   "cell_type": "code",
   "execution_count": 9,
   "id": "448b39cc-c74b-4fe5-9947-a3306f0a4f03",
   "metadata": {},
   "outputs": [
    {
     "data": {
      "text/html": [
       "<div>\n",
       "<style scoped>\n",
       "    .dataframe tbody tr th:only-of-type {\n",
       "        vertical-align: middle;\n",
       "    }\n",
       "\n",
       "    .dataframe tbody tr th {\n",
       "        vertical-align: top;\n",
       "    }\n",
       "\n",
       "    .dataframe thead th {\n",
       "        text-align: right;\n",
       "    }\n",
       "</style>\n",
       "<table border=\"1\" class=\"dataframe\">\n",
       "  <thead>\n",
       "    <tr style=\"text-align: right;\">\n",
       "      <th></th>\n",
       "      <th>index</th>\n",
       "      <th>0</th>\n",
       "    </tr>\n",
       "  </thead>\n",
       "  <tbody>\n",
       "    <tr>\n",
       "      <th>0</th>\n",
       "      <td>day1</td>\n",
       "      <td>1000</td>\n",
       "    </tr>\n",
       "    <tr>\n",
       "      <th>1</th>\n",
       "      <td>day1</td>\n",
       "      <td>1000</td>\n",
       "    </tr>\n",
       "    <tr>\n",
       "      <th>2</th>\n",
       "      <td>day1</td>\n",
       "      <td>1000</td>\n",
       "    </tr>\n",
       "    <tr>\n",
       "      <th>3</th>\n",
       "      <td>day2</td>\n",
       "      <td>2000</td>\n",
       "    </tr>\n",
       "    <tr>\n",
       "      <th>4</th>\n",
       "      <td>day2</td>\n",
       "      <td>2000</td>\n",
       "    </tr>\n",
       "    <tr>\n",
       "      <th>5</th>\n",
       "      <td>day2</td>\n",
       "      <td>2000</td>\n",
       "    </tr>\n",
       "    <tr>\n",
       "      <th>6</th>\n",
       "      <td>day3</td>\n",
       "      <td>3000</td>\n",
       "    </tr>\n",
       "    <tr>\n",
       "      <th>7</th>\n",
       "      <td>day3</td>\n",
       "      <td>3000</td>\n",
       "    </tr>\n",
       "    <tr>\n",
       "      <th>8</th>\n",
       "      <td>day3</td>\n",
       "      <td>3000</td>\n",
       "    </tr>\n",
       "    <tr>\n",
       "      <th>9</th>\n",
       "      <td>day4</td>\n",
       "      <td>4000</td>\n",
       "    </tr>\n",
       "    <tr>\n",
       "      <th>10</th>\n",
       "      <td>day4</td>\n",
       "      <td>4000</td>\n",
       "    </tr>\n",
       "    <tr>\n",
       "      <th>11</th>\n",
       "      <td>day4</td>\n",
       "      <td>4000</td>\n",
       "    </tr>\n",
       "  </tbody>\n",
       "</table>\n",
       "</div>"
      ],
      "text/plain": [
       "   index     0\n",
       "0   day1  1000\n",
       "1   day1  1000\n",
       "2   day1  1000\n",
       "3   day2  2000\n",
       "4   day2  2000\n",
       "5   day2  2000\n",
       "6   day3  3000\n",
       "7   day3  3000\n",
       "8   day3  3000\n",
       "9   day4  4000\n",
       "10  day4  4000\n",
       "11  day4  4000"
      ]
     },
     "execution_count": 9,
     "metadata": {},
     "output_type": "execute_result"
    }
   ],
   "source": [
    "pd.Series(steps).repeat(3).reset_index()"
   ]
  },
  {
   "cell_type": "code",
   "execution_count": 10,
   "id": "4a212f2b-66ea-4345-8dc0-0ecad7b44d00",
   "metadata": {},
   "outputs": [
    {
     "data": {
      "text/plain": [
       "0     1000\n",
       "1     1000\n",
       "2     1000\n",
       "3     2000\n",
       "4     2000\n",
       "5     2000\n",
       "6     3000\n",
       "7     3000\n",
       "8     3000\n",
       "9     4000\n",
       "10    4000\n",
       "11    4000\n",
       "dtype: int64"
      ]
     },
     "execution_count": 10,
     "metadata": {},
     "output_type": "execute_result"
    }
   ],
   "source": [
    "pd.Series(steps).repeat(3).reset_index(drop=True)"
   ]
  },
  {
   "cell_type": "code",
   "execution_count": 11,
   "id": "0f3124d2-4e4b-4565-90e6-39cf8f22034d",
   "metadata": {},
   "outputs": [
    {
     "data": {
      "text/html": [
       "<div>\n",
       "<style scoped>\n",
       "    .dataframe tbody tr th:only-of-type {\n",
       "        vertical-align: middle;\n",
       "    }\n",
       "\n",
       "    .dataframe tbody tr th {\n",
       "        vertical-align: top;\n",
       "    }\n",
       "\n",
       "    .dataframe thead th {\n",
       "        text-align: right;\n",
       "    }\n",
       "</style>\n",
       "<table border=\"1\" class=\"dataframe\">\n",
       "  <thead>\n",
       "    <tr style=\"text-align: right;\">\n",
       "      <th></th>\n",
       "      <th>index</th>\n",
       "      <th>0</th>\n",
       "    </tr>\n",
       "  </thead>\n",
       "  <tbody>\n",
       "    <tr>\n",
       "      <th>0</th>\n",
       "      <td>0</td>\n",
       "      <td>1</td>\n",
       "    </tr>\n",
       "    <tr>\n",
       "      <th>1</th>\n",
       "      <td>0</td>\n",
       "      <td>1</td>\n",
       "    </tr>\n",
       "    <tr>\n",
       "      <th>2</th>\n",
       "      <td>1</td>\n",
       "      <td>2</td>\n",
       "    </tr>\n",
       "    <tr>\n",
       "      <th>3</th>\n",
       "      <td>1</td>\n",
       "      <td>2</td>\n",
       "    </tr>\n",
       "    <tr>\n",
       "      <th>4</th>\n",
       "      <td>1</td>\n",
       "      <td>2</td>\n",
       "    </tr>\n",
       "    <tr>\n",
       "      <th>5</th>\n",
       "      <td>2</td>\n",
       "      <td>3</td>\n",
       "    </tr>\n",
       "    <tr>\n",
       "      <th>6</th>\n",
       "      <td>2</td>\n",
       "      <td>3</td>\n",
       "    </tr>\n",
       "    <tr>\n",
       "      <th>7</th>\n",
       "      <td>2</td>\n",
       "      <td>3</td>\n",
       "    </tr>\n",
       "    <tr>\n",
       "      <th>8</th>\n",
       "      <td>2</td>\n",
       "      <td>3</td>\n",
       "    </tr>\n",
       "  </tbody>\n",
       "</table>\n",
       "</div>"
      ],
      "text/plain": [
       "   index  0\n",
       "0      0  1\n",
       "1      0  1\n",
       "2      1  2\n",
       "3      1  2\n",
       "4      1  2\n",
       "5      2  3\n",
       "6      2  3\n",
       "7      2  3\n",
       "8      2  3"
      ]
     },
     "execution_count": 11,
     "metadata": {},
     "output_type": "execute_result"
    }
   ],
   "source": [
    "pd.Series([1,2,3,]).repeat([2,3,4]).reset_index()"
   ]
  },
  {
   "cell_type": "code",
   "execution_count": 12,
   "id": "de30e6ab-97ce-4f1c-9320-a1d382218eec",
   "metadata": {},
   "outputs": [
    {
     "data": {
      "text/plain": [
       "0    1\n",
       "1    1\n",
       "2    2\n",
       "3    2\n",
       "4    2\n",
       "5    3\n",
       "6    3\n",
       "7    3\n",
       "8    3\n",
       "dtype: int64"
      ]
     },
     "execution_count": 12,
     "metadata": {},
     "output_type": "execute_result"
    }
   ],
   "source": [
    "repeat_elements=pd.Series([1,2,3,]).repeat([2,3,4])\n",
    "pd.concat([repeat_elements],ignore_index=True)"
   ]
  },
  {
   "cell_type": "markdown",
   "id": "43d54287-a4a7-4659-b6c2-0861bd02f77c",
   "metadata": {},
   "source": [
    "### concate Series"
   ]
  },
  {
   "cell_type": "code",
   "execution_count": 13,
   "id": "fbf6de9a-9750-4dcb-b1db-b2f52a40366b",
   "metadata": {},
   "outputs": [
    {
     "data": {
      "text/plain": [
       "0    1\n",
       "1    2\n",
       "2    3\n",
       "3    4\n",
       "4   -6\n",
       "5   -7\n",
       "6   -8\n",
       "7   -9\n",
       "dtype: int64"
      ]
     },
     "execution_count": 13,
     "metadata": {},
     "output_type": "execute_result"
    }
   ],
   "source": [
    "sr1=pd.Series([1,2,3,4,])\n",
    "sr2=pd.Series([-6,-7,-8,-9])\n",
    "sr1,sr2\n",
    "sr3=pd.concat([sr1,sr2])\n",
    "sr3\n",
    "\n",
    "pd.Series(sr3).reset_index(drop=True)"
   ]
  },
  {
   "cell_type": "code",
   "execution_count": 14,
   "id": "dbc93c7b-eb7c-4105-b648-63c09cc59114",
   "metadata": {},
   "outputs": [
    {
     "data": {
      "text/plain": [
       "0    1\n",
       "1    2\n",
       "2    3\n",
       "3    4\n",
       "4   -6\n",
       "5   -7\n",
       "6   -8\n",
       "7   -9\n",
       "dtype: int64"
      ]
     },
     "execution_count": 14,
     "metadata": {},
     "output_type": "execute_result"
    }
   ],
   "source": [
    "sr1=pd.Series([1,2,3,4,])\n",
    "sr2=pd.Series([-6,-7,-8,-9])\n",
    "sr1,sr2\n",
    "sr3=pd.concat([sr1,sr2],ignore_index=True)\n",
    "sr3"
   ]
  },
  {
   "cell_type": "markdown",
   "id": "c4be8e18-8ef6-41c0-8e7a-fdcccc517040",
   "metadata": {},
   "source": [
    "### Astype function"
   ]
  },
  {
   "cell_type": "code",
   "execution_count": 15,
   "id": "59364dd9-d425-45b4-b2ca-c774caee80ea",
   "metadata": {},
   "outputs": [
    {
     "data": {
      "text/plain": [
       "0    1\n",
       "1    2\n",
       "2    3\n",
       "3    4\n",
       "dtype: object"
      ]
     },
     "execution_count": 15,
     "metadata": {},
     "output_type": "execute_result"
    }
   ],
   "source": [
    "sr1.astype(\"str\")"
   ]
  },
  {
   "cell_type": "code",
   "execution_count": 16,
   "id": "ca220cb0-4f13-4e5e-9965-3bcd563ed74a",
   "metadata": {},
   "outputs": [
    {
     "data": {
      "text/plain": [
       "pandas.core.series.Series"
      ]
     },
     "execution_count": 16,
     "metadata": {},
     "output_type": "execute_result"
    }
   ],
   "source": [
    "type(sr1)"
   ]
  },
  {
   "cell_type": "code",
   "execution_count": 17,
   "id": "471f3bd2-ae6f-40d5-8a3e-d9d4f99f50f4",
   "metadata": {},
   "outputs": [
    {
     "data": {
      "text/plain": [
       "0    1.0\n",
       "1    2.0\n",
       "2   -7.0\n",
       "dtype: float64"
      ]
     },
     "execution_count": 17,
     "metadata": {},
     "output_type": "execute_result"
    }
   ],
   "source": [
    "pd.Series([1,2,-3-4]).astype(\"float\")"
   ]
  },
  {
   "cell_type": "markdown",
   "id": "96f0af49-b500-4333-bf4a-54dcf54d188a",
   "metadata": {},
   "source": [
    "### Between function"
   ]
  },
  {
   "cell_type": "code",
   "execution_count": 18,
   "id": "64b4809e-616b-4bfe-bd21-efaf87ab4977",
   "metadata": {},
   "outputs": [
    {
     "data": {
      "text/plain": [
       "0    False\n",
       "1    False\n",
       "2     True\n",
       "3     True\n",
       "4     True\n",
       "5     True\n",
       "6     True\n",
       "7     True\n",
       "8     True\n",
       "9     True\n",
       "dtype: bool"
      ]
     },
     "execution_count": 18,
     "metadata": {},
     "output_type": "execute_result"
    }
   ],
   "source": [
    "pd.Series([1,2,3,4,8,9,5,6,8,7]).between(3,9)"
   ]
  },
  {
   "cell_type": "code",
   "execution_count": 19,
   "id": "8c4c6576-bc50-4a9d-82c4-21f6c14ec821",
   "metadata": {},
   "outputs": [
    {
     "data": {
      "text/plain": [
       "0     False\n",
       "1     False\n",
       "2     False\n",
       "3      True\n",
       "4     False\n",
       "5     False\n",
       "6      True\n",
       "7     False\n",
       "8      True\n",
       "9     False\n",
       "10    False\n",
       "11     True\n",
       "12    False\n",
       "13     True\n",
       "14    False\n",
       "15     True\n",
       "dtype: bool"
      ]
     },
     "execution_count": 19,
     "metadata": {},
     "output_type": "execute_result"
    }
   ],
   "source": [
    "sr=pd.Series([1,4,8,30,9,6,15,7,20,8,9,40,5,50,6,60])\n",
    "sr.between(10,80)"
   ]
  },
  {
   "attachments": {},
   "cell_type": "markdown",
   "id": "69f9f1c3-03a7-44fc-bbc0-8d71d5386826",
   "metadata": {},
   "source": [
    "### All string fuction can be used to extract or modify text in a Series\n",
    "        Upper and Lower Function\n",
    "        Len Function\n",
    "        Strip Function\n",
    "        Split Function\n",
    "        Contains Function\n",
    "        Replace Function\n",
    "        Startwith and Endwith Function\n",
    "        Find Function\n",
    "        Count Function"
   ]
  },
  {
   "cell_type": "markdown",
   "id": "08df5bcc-f434-4d8c-97dc-877aab76aa6e",
   "metadata": {},
   "source": [
    "#####  Upper and Lower Function"
   ]
  },
  {
   "cell_type": "code",
   "execution_count": 20,
   "id": "6f0e4cf6-18df-4ccb-b670-064c444ba74a",
   "metadata": {},
   "outputs": [
    {
     "name": "stdout",
     "output_type": "stream",
     "text": [
      "0    RAMSEH\n",
      "1     MOHAN\n",
      "2    RAKESH\n",
      "3    DANIEL\n",
      "dtype: object\n",
      "------------------------------\n",
      "0    ramseh\n",
      "1     mohan\n",
      "2    rakesh\n",
      "3    daniel\n",
      "dtype: object\n"
     ]
    }
   ],
   "source": [
    "data=pd.Series([\"Ramseh\",\"Mohan\",\"Rakesh\",\"Daniel\"])\n",
    "print(data.str.upper())\n",
    "print(\"-\"*30)      \n",
    "print(data.str.lower())\n"
   ]
  },
  {
   "cell_type": "markdown",
   "id": "4a7d6384-e7a7-4112-91c0-23ea0337587a",
   "metadata": {},
   "source": [
    "##### Len Function"
   ]
  },
  {
   "cell_type": "code",
   "execution_count": 21,
   "id": "d2d9c98d-4a92-4034-b720-8465d3e98639",
   "metadata": {},
   "outputs": [
    {
     "name": "stdout",
     "output_type": "stream",
     "text": [
      "Ramseh 6\n",
      "Mohan 5\n",
      "Rakesh 6\n",
      "Daniel 6\n"
     ]
    }
   ],
   "source": [
    "data=pd.Series([\"Ramseh\",\"Mohan\",\"Rakesh\",\"Daniel\"])\n",
    "for i in data:\n",
    "    print(i , len(i))  "
   ]
  },
  {
   "cell_type": "markdown",
   "id": "3366d861-0235-41c9-9272-fe279ba4059e",
   "metadata": {},
   "source": [
    "##### Strip Function"
   ]
  },
  {
   "cell_type": "code",
   "execution_count": 22,
   "id": "a15a4d6c-8be4-44d4-a592-90a331696959",
   "metadata": {},
   "outputs": [
    {
     "name": "stdout",
     "output_type": "stream",
     "text": [
      "Ramseh 6\n",
      "Mohani 6\n",
      "Rakesh 6\n",
      "Daniel 6\n"
     ]
    }
   ],
   "source": [
    "data=pd.Series([\" Ramseh \" , \" Mohani \",\" Rakesh \" , \" Daniel \"])\n",
    "ser=data.str.strip()\n",
    "for i in ser:\n",
    "    print(i,len(i))\n",
    "    \n"
   ]
  },
  {
   "cell_type": "markdown",
   "id": "53aa4050-7fd3-4bde-828e-728a4834cd1f",
   "metadata": {},
   "source": [
    "#####  Split Function"
   ]
  },
  {
   "cell_type": "code",
   "execution_count": 23,
   "id": "50901705-f2f7-42e7-b1f6-b9a80a9d946b",
   "metadata": {},
   "outputs": [
    {
     "data": {
      "text/plain": [
       "['Daniel']"
      ]
     },
     "execution_count": 23,
     "metadata": {},
     "output_type": "execute_result"
    }
   ],
   "source": [
    "data=pd.Series([\"Ramseh\",\"Mohan\",\"Rakesh\",\"Daniel\"])\n",
    "data.str.split()[3]"
   ]
  },
  {
   "cell_type": "code",
   "execution_count": 24,
   "id": "9af0d7e1-1faa-49f6-ae39-11c5ca19b57b",
   "metadata": {},
   "outputs": [
    {
     "data": {
      "text/plain": [
       "['20', '3', '2023']"
      ]
     },
     "execution_count": 24,
     "metadata": {},
     "output_type": "execute_result"
    }
   ],
   "source": [
    "pd.Series([\"10/5/2022\",\"20/3/2023\",\"15/5/2024\"]).str.split(\"/\")[1]"
   ]
  },
  {
   "cell_type": "markdown",
   "id": "6b3797a5-5ba0-470e-84fb-741ca37d37f7",
   "metadata": {},
   "source": [
    "##### Contains Function used for special character or not "
   ]
  },
  {
   "cell_type": "code",
   "execution_count": 28,
   "id": "fca7c0e2-1931-4cc2-9984-2e30a58642ff",
   "metadata": {},
   "outputs": [
    {
     "data": {
      "text/plain": [
       "0     True\n",
       "1    False\n",
       "2     True\n",
       "3    False\n",
       "dtype: bool"
      ]
     },
     "execution_count": 28,
     "metadata": {},
     "output_type": "execute_result"
    }
   ],
   "source": [
    "data=pd.Series([\"@Ramseh\",\"Mohan#\",\"@Rakesh\",\"Daniel\"])\n",
    "data.str.contains(\"@\")"
   ]
  },
  {
   "cell_type": "markdown",
   "id": "2f71e5ac-4ee1-492b-878e-3167fb8ff87f",
   "metadata": {},
   "source": [
    "##### Replace Function"
   ]
  },
  {
   "cell_type": "code",
   "execution_count": 29,
   "id": "bf8ba845-d0bf-4975-b381-84f6cff46ed4",
   "metadata": {},
   "outputs": [
    {
     "data": {
      "text/plain": [
       "0    Jamseh\n",
       "1     Mohan\n",
       "2    Jakesh\n",
       "3    Daniel\n",
       "dtype: object"
      ]
     },
     "execution_count": 29,
     "metadata": {},
     "output_type": "execute_result"
    }
   ],
   "source": [
    "data=pd.Series([\"Ramseh\",\"Mohan\",\"Rakesh\",\"Daniel\"])\n",
    "data.str.replace(\"R\",\"J\")"
   ]
  },
  {
   "cell_type": "code",
   "execution_count": 31,
   "id": "918d228d-2118-4b2c-a697-9b2342c00145",
   "metadata": {},
   "outputs": [
    {
     "data": {
      "text/plain": [
       "0    Jamseh\n",
       "1     Mohan\n",
       "2    Jakesh\n",
       "3    Daniel\n",
       "dtype: object"
      ]
     },
     "execution_count": 31,
     "metadata": {},
     "output_type": "execute_result"
    }
   ],
   "source": [
    "ser=data.str.replace(\"R\",\"J\")\n",
    "ser"
   ]
  },
  {
   "cell_type": "markdown",
   "id": "87b70395-7909-4c60-a916-7c72d0641ebc",
   "metadata": {},
   "source": [
    "##### Startswith Function"
   ]
  },
  {
   "cell_type": "code",
   "execution_count": 34,
   "id": "7e983d50-d168-4922-a1cd-08dc6299c920",
   "metadata": {},
   "outputs": [
    {
     "data": {
      "text/plain": [
       "0     True\n",
       "1    False\n",
       "2     True\n",
       "3    False\n",
       "dtype: bool"
      ]
     },
     "execution_count": 34,
     "metadata": {},
     "output_type": "execute_result"
    }
   ],
   "source": [
    "data=pd.Series([\"Ramseh\",\"Mohan\",\"Rakesh\",\"Daniel\"])\n",
    "data.str.startswith(\"R\")"
   ]
  },
  {
   "cell_type": "markdown",
   "id": "9324a5e3-4861-4d82-aad3-4e6d5a37cdbf",
   "metadata": {},
   "source": [
    "##### Endswith Function"
   ]
  },
  {
   "cell_type": "code",
   "execution_count": 35,
   "id": "2fa8e32a-fb93-4d55-bc3e-cc9f5ce64c80",
   "metadata": {},
   "outputs": [
    {
     "data": {
      "text/plain": [
       "0     True\n",
       "1    False\n",
       "2     True\n",
       "3    False\n",
       "dtype: bool"
      ]
     },
     "execution_count": 35,
     "metadata": {},
     "output_type": "execute_result"
    }
   ],
   "source": [
    "data=pd.Series([\"Ramseh\",\"Mohan\",\"Rakesh\",\"Daniel\"])\n",
    "data.str.endswith(\"h\")"
   ]
  },
  {
   "cell_type": "markdown",
   "id": "f056404e-f19c-4d6f-918b-7f1d3918452c",
   "metadata": {},
   "source": [
    "##### Count Function"
   ]
  },
  {
   "cell_type": "code",
   "execution_count": 37,
   "id": "19fb4723-8f78-4ae4-8181-ceb45c9a4a6b",
   "metadata": {},
   "outputs": [
    {
     "data": {
      "text/plain": [
       "0    1\n",
       "1    1\n",
       "2    1\n",
       "3    0\n",
       "dtype: int64"
      ]
     },
     "execution_count": 37,
     "metadata": {},
     "output_type": "execute_result"
    }
   ],
   "source": [
    "data=pd.Series([\"Ramseh\",\"Mohan\",\"Rakesh\",\"Daniel\"])\n",
    "data.str.count(\"h\")"
   ]
  },
  {
   "cell_type": "markdown",
   "id": "edbe8575-1e8a-41fa-8cf1-6ed5bdb52160",
   "metadata": {},
   "source": [
    "##### Find Function"
   ]
  },
  {
   "cell_type": "code",
   "execution_count": 38,
   "id": "8b27d954-a7d1-488e-8d88-021ca0102f65",
   "metadata": {},
   "outputs": [
    {
     "data": {
      "text/plain": [
       "0    5\n",
       "1    2\n",
       "2    5\n",
       "3   -1\n",
       "dtype: int64"
      ]
     },
     "execution_count": 38,
     "metadata": {},
     "output_type": "execute_result"
    }
   ],
   "source": [
    "data=pd.Series([\"Ramseh\",\"Mohan\",\"Rakesh\",\"Daniel\"])\n",
    "data.str.find(\"h\")"
   ]
  },
  {
   "cell_type": "code",
   "execution_count": 40,
   "id": "01d40c47-0ca1-425c-b9b1-b724befdd048",
   "metadata": {},
   "outputs": [
    {
     "data": {
      "text/plain": [
       "['Ramesh', 'Mohan', 'Rakesh', 'Daniel']"
      ]
     },
     "execution_count": 40,
     "metadata": {},
     "output_type": "execute_result"
    }
   ],
   "source": [
    "data=pd.Series([\"Ramesh\",\"Mohan\",\"Rakesh\",\"Daniel\"])\n",
    "data.to_list()"
   ]
  },
  {
   "cell_type": "code",
   "execution_count": null,
   "id": "3bd2ee3f-7c30-41d9-90c8-596a42e4d0b9",
   "metadata": {},
   "outputs": [],
   "source": []
  }
 ],
 "metadata": {
  "kernelspec": {
   "display_name": "Python 3 (ipykernel)",
   "language": "python",
   "name": "python3"
  },
  "language_info": {
   "codemirror_mode": {
    "name": "ipython",
    "version": 3
   },
   "file_extension": ".py",
   "mimetype": "text/x-python",
   "name": "python",
   "nbconvert_exporter": "python",
   "pygments_lexer": "ipython3",
   "version": "3.11.7"
  }
 },
 "nbformat": 4,
 "nbformat_minor": 5
}
