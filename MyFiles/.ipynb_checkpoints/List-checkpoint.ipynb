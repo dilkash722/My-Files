{
 "cells": [
  {
   "cell_type": "code",
   "execution_count": 6,
   "id": "04b0bd89-acb0-44cf-8266-7d49bc5d0a49",
   "metadata": {},
   "outputs": [
    {
     "name": "stdout",
     "output_type": "stream",
     "text": [
      "[4, 5, 6, 7, 8, 9]\n"
     ]
    }
   ],
   "source": [
    "lst=[4,5,6,7,8,9]\n",
    "print(lst)"
   ]
  },
  {
   "cell_type": "code",
   "execution_count": 8,
   "id": "18d4a03b-1a68-427b-a4af-80302f37f508",
   "metadata": {},
   "outputs": [
    {
     "name": "stdout",
     "output_type": "stream",
     "text": [
      "[4, 5, 6, 7, 8, 9]\n"
     ]
    }
   ],
   "source": [
    "#print(sorted(lst))\n",
    "lst.sort()\n",
    "print(lst)"
   ]
  },
  {
   "cell_type": "code",
   "execution_count": 9,
   "id": "821b4714-2062-472f-a6bc-e5262a70d67e",
   "metadata": {},
   "outputs": [
    {
     "name": "stdout",
     "output_type": "stream",
     "text": [
      "[4, 5, 6, 7, 8, 9]\n"
     ]
    }
   ],
   "source": [
    "print(sorted(lst))"
   ]
  },
  {
   "cell_type": "code",
   "execution_count": 18,
   "id": "8688f338-d9c0-4b1f-8a26-3babb81dbb21",
   "metadata": {},
   "outputs": [
    {
     "name": "stdout",
     "output_type": "stream",
     "text": [
      "[9, 8, 7, 6, 5, 4]\n"
     ]
    }
   ],
   "source": [
    "#print(lst.sorted(reverse=True))\n",
    "lst.sort(reverse=True)\n",
    "print(lst)\n",
    "#print(lst.sort(reverse=True))\n",
    "#print(val)"
   ]
  },
  {
   "cell_type": "code",
   "execution_count": 19,
   "id": "1c15442c-cee3-473a-be2c-43f7487722ef",
   "metadata": {},
   "outputs": [
    {
     "name": "stdout",
     "output_type": "stream",
     "text": [
      "[9, 8, 7, 6, 5, 4]\n"
     ]
    }
   ],
   "source": [
    "lst1=lst.copy()\n",
    "print(lst1)"
   ]
  },
  {
   "cell_type": "code",
   "execution_count": 20,
   "id": "bf8a0b03-a729-4a24-86aa-31eebc038522",
   "metadata": {},
   "outputs": [
    {
     "name": "stdout",
     "output_type": "stream",
     "text": [
      "[9, 8, 7, 6, 5, 4]\n"
     ]
    }
   ],
   "source": [
    "my_list=list(lst1)\n",
    "print(my_list)"
   ]
  },
  {
   "cell_type": "code",
   "execution_count": 3,
   "id": "9129a65d-5212-4d7c-9be0-e9cb67701aef",
   "metadata": {},
   "outputs": [
    {
     "name": "stdout",
     "output_type": "stream",
     "text": [
      "1 4 9 16 25 36 49 64 81 "
     ]
    }
   ],
   "source": [
    "list=[1,2,3,4,5,6,7,8,9]\n",
    "for i in list:\n",
    "    print(i**2, end=\" \")"
   ]
  },
  {
   "cell_type": "code",
   "execution_count": null,
   "id": "66e9d435-21da-487a-9ae5-057bbe8072ab",
   "metadata": {},
   "outputs": [],
   "source": [
    "list1=[]\n",
    "for i in range(1,11):\n",
    "    list1.append(i**3)\n",
    "print(list1)"
   ]
  },
  {
   "cell_type": "code",
   "execution_count": null,
   "id": "f23b9479-d602-49f7-84e5-c877cee764fe",
   "metadata": {},
   "outputs": [],
   "source": [
    "list=[]\n",
    "i=1\n",
    "while(i<=30):\n",
    "    list.append(i**2)\n",
    "    i=i+1\n",
    "print(list)"
   ]
  },
  {
   "cell_type": "code",
   "execution_count": null,
   "id": "e7256885-3aa7-4066-b527-541fe553869a",
   "metadata": {},
   "outputs": [],
   "source": [
    "list=[]\n",
    "n=1\n",
    "while(n<=30):\n",
    "    list.append(n**2)\n",
    "    n+=1\n",
    "print(list)"
   ]
  },
  {
   "cell_type": "code",
   "execution_count": 5,
   "id": "641aefbf-6326-4e7d-a67a-86857e7701af",
   "metadata": {},
   "outputs": [
    {
     "name": "stdout",
     "output_type": "stream",
     "text": [
      "[2, 4, 6, 8, 10, 12, 14, 16, 18, 20]\n"
     ]
    }
   ],
   "source": [
    "lst=[i for i in range(1,21) if i%2==0]\n",
    "print(lst)"
   ]
  },
  {
   "cell_type": "code",
   "execution_count": 6,
   "id": "67fbc5a6-aa3f-4355-8fa1-81ca71154c2b",
   "metadata": {},
   "outputs": [
    {
     "name": "stdout",
     "output_type": "stream",
     "text": [
      "[1, 3, 5, 7, 9, 11, 13, 15, 17, 19]\n"
     ]
    }
   ],
   "source": [
    "lst=[i for i in range(1,21) if i%2!=0]\n",
    "print(lst)"
   ]
  },
  {
   "cell_type": "code",
   "execution_count": 15,
   "id": "3b9942d2-ab77-43b8-8c74-c7e28d5ca0c3",
   "metadata": {},
   "outputs": [
    {
     "name": "stdout",
     "output_type": "stream",
     "text": [
      "[4, 16, 36, 64, 100, 144, 196, 256, 324, 400]\n"
     ]
    }
   ],
   "source": [
    "list=[i*i for i in range(1,21) if i%2==0]\n",
    "print(list)"
   ]
  },
  {
   "cell_type": "code",
   "execution_count": null,
   "id": "e5062f44-db23-46a4-8a46-75e2325a051b",
   "metadata": {},
   "outputs": [],
   "source": [
    "# list Comprehension\n",
    "# i instead for  rows\n",
    "# j instead for column"
   ]
  },
  {
   "cell_type": "code",
   "execution_count": 15,
   "id": "fb6eb73c-f8c2-4229-a56a-6c09a0a3584b",
   "metadata": {},
   "outputs": [
    {
     "name": "stdout",
     "output_type": "stream",
     "text": [
      "[[1, 1, 1], [2, 2, 2], [3, 3, 3], [4, 4, 4], [5, 5, 5]]\n"
     ]
    }
   ],
   "source": [
    "lst=[[ i+1 for j in range(3)] for i in range(5)]\n",
    "print(lst)"
   ]
  },
  {
   "cell_type": "code",
   "execution_count": 7,
   "id": "d82bcb1c-c3d6-42e3-9e01-d103b497c8d7",
   "metadata": {},
   "outputs": [
    {
     "name": "stdout",
     "output_type": "stream",
     "text": [
      "1 2 3 4 5 6 7 8 9 "
     ]
    }
   ],
   "source": [
    "lst=[[1,2,3],[4,5,6],[7,8,9]]\n",
    "for i in lst:\n",
    "    for j in i:\n",
    "        print(j, end=\" \")"
   ]
  },
  {
   "cell_type": "code",
   "execution_count": null,
   "id": "048b8ac6-0804-4ca3-ae47-641e1ac08e6a",
   "metadata": {},
   "outputs": [],
   "source": []
  },
  {
   "cell_type": "code",
   "execution_count": null,
   "id": "d8464158-801f-411d-a54a-5741eae735f7",
   "metadata": {},
   "outputs": [],
   "source": []
  }
 ],
 "metadata": {
  "kernelspec": {
   "display_name": "Python 3 (ipykernel)",
   "language": "python",
   "name": "python3"
  },
  "language_info": {
   "codemirror_mode": {
    "name": "ipython",
    "version": 3
   },
   "file_extension": ".py",
   "mimetype": "text/x-python",
   "name": "python",
   "nbconvert_exporter": "python",
   "pygments_lexer": "ipython3",
   "version": "3.11.7"
  }
 },
 "nbformat": 4,
 "nbformat_minor": 5
}
