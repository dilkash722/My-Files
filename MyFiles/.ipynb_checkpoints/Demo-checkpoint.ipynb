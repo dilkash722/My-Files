{
 "cells": [
  {
   "cell_type": "code",
   "execution_count": 3,
   "id": "2d3c13a2-62e1-4691-9582-4dd8a86fa537",
   "metadata": {},
   "outputs": [
    {
     "name": "stdout",
     "output_type": "stream",
     "text": [
      "0b101\n"
     ]
    }
   ],
   "source": [
    "x=5\n",
    "print(bin(x) )"
   ]
  },
  {
   "cell_type": "code",
   "execution_count": 4,
   "id": "50e8591e-0228-4bec-8301-83153516d5fa",
   "metadata": {},
   "outputs": [
    {
     "name": "stdout",
     "output_type": "stream",
     "text": [
      "567\n"
     ]
    }
   ],
   "source": [
    "x=567\n",
    "print(str(x))"
   ]
  },
  {
   "cell_type": "code",
   "execution_count": 5,
   "id": "324accaa-5b93-49fa-9b0f-c147d92a1efc",
   "metadata": {},
   "outputs": [
    {
     "ename": "FileNotFoundError",
     "evalue": "[Errno 2] No such file or directory: 'records.json'",
     "output_type": "error",
     "traceback": [
      "\u001b[1;31m---------------------------------------------------------------------------\u001b[0m",
      "\u001b[1;31mFileNotFoundError\u001b[0m                         Traceback (most recent call last)",
      "Cell \u001b[1;32mIn[5], line 3\u001b[0m\n\u001b[0;32m      1\u001b[0m \u001b[38;5;28;01mimport\u001b[39;00m \u001b[38;5;21;01mtime\u001b[39;00m\n\u001b[0;32m      2\u001b[0m \u001b[38;5;28;01mimport\u001b[39;00m \u001b[38;5;21;01mjson\u001b[39;00m\n\u001b[1;32m----> 3\u001b[0m fd\u001b[38;5;241m=\u001b[39m\u001b[38;5;28mopen\u001b[39m(\u001b[38;5;124m\"\u001b[39m\u001b[38;5;124mrecords.json\u001b[39m\u001b[38;5;124m\"\u001b[39m,\u001b[38;5;124m\"\u001b[39m\u001b[38;5;124mr\u001b[39m\u001b[38;5;124m\"\u001b[39m)\n\u001b[0;32m      4\u001b[0m js\u001b[38;5;241m=\u001b[39mfd\u001b[38;5;241m.\u001b[39mread()\n\u001b[0;32m      5\u001b[0m fd\u001b[38;5;241m.\u001b[39mclose()\n",
      "File \u001b[1;32mC:\\ProgramData\\anaconda3\\Lib\\site-packages\\IPython\\core\\interactiveshell.py:310\u001b[0m, in \u001b[0;36m_modified_open\u001b[1;34m(file, *args, **kwargs)\u001b[0m\n\u001b[0;32m    303\u001b[0m \u001b[38;5;28;01mif\u001b[39;00m file \u001b[38;5;129;01min\u001b[39;00m {\u001b[38;5;241m0\u001b[39m, \u001b[38;5;241m1\u001b[39m, \u001b[38;5;241m2\u001b[39m}:\n\u001b[0;32m    304\u001b[0m     \u001b[38;5;28;01mraise\u001b[39;00m \u001b[38;5;167;01mValueError\u001b[39;00m(\n\u001b[0;32m    305\u001b[0m         \u001b[38;5;124mf\u001b[39m\u001b[38;5;124m\"\u001b[39m\u001b[38;5;124mIPython won\u001b[39m\u001b[38;5;124m'\u001b[39m\u001b[38;5;124mt let you open fd=\u001b[39m\u001b[38;5;132;01m{\u001b[39;00mfile\u001b[38;5;132;01m}\u001b[39;00m\u001b[38;5;124m by default \u001b[39m\u001b[38;5;124m\"\u001b[39m\n\u001b[0;32m    306\u001b[0m         \u001b[38;5;124m\"\u001b[39m\u001b[38;5;124mas it is likely to crash IPython. If you know what you are doing, \u001b[39m\u001b[38;5;124m\"\u001b[39m\n\u001b[0;32m    307\u001b[0m         \u001b[38;5;124m\"\u001b[39m\u001b[38;5;124myou can use builtins\u001b[39m\u001b[38;5;124m'\u001b[39m\u001b[38;5;124m open.\u001b[39m\u001b[38;5;124m\"\u001b[39m\n\u001b[0;32m    308\u001b[0m     )\n\u001b[1;32m--> 310\u001b[0m \u001b[38;5;28;01mreturn\u001b[39;00m io_open(file, \u001b[38;5;241m*\u001b[39margs, \u001b[38;5;241m*\u001b[39m\u001b[38;5;241m*\u001b[39mkwargs)\n",
      "\u001b[1;31mFileNotFoundError\u001b[0m: [Errno 2] No such file or directory: 'records.json'"
     ]
    }
   ],
   "source": [
    "x=5467\n",
    "print(len(x))"
   ]
  },
  {
   "cell_type": "code",
   "execution_count": 6,
   "id": "80dbdf53-0063-448b-be7d-bea9016ff225",
   "metadata": {},
   "outputs": [
    {
     "name": "stdout",
     "output_type": "stream",
     "text": [
      "7\n"
     ]
    }
   ],
   "source": [
    "list1=[1,2,5,45,52,45,86]\n",
    "print(len(list1))"
   ]
  },
  {
   "cell_type": "code",
   "execution_count": 7,
   "id": "bddb9dc8-3fb3-461e-af7a-e640924ee127",
   "metadata": {},
   "outputs": [
    {
     "ename": "NameError",
     "evalue": "name 'index' is not defined",
     "output_type": "error",
     "traceback": [
      "\u001b[1;31m---------------------------------------------------------------------------\u001b[0m",
      "\u001b[1;31mNameError\u001b[0m                                 Traceback (most recent call last)",
      "Cell \u001b[1;32mIn[7], line 1\u001b[0m\n\u001b[1;32m----> 1\u001b[0m \u001b[38;5;28mprint\u001b[39m(index(list1[\u001b[38;5;241m5\u001b[39m]))\n",
      "\u001b[1;31mNameError\u001b[0m: name 'index' is not defined"
     ]
    }
   ],
   "source": [
    "print(index(list1[5]))"
   ]
  },
  {
   "cell_type": "code",
   "execution_count": 8,
   "id": "31e2d2e2-6f2c-4c63-96e7-b921c8f686cc",
   "metadata": {},
   "outputs": [
    {
     "ename": "ValueError",
     "evalue": "5 is not in list",
     "output_type": "error",
     "traceback": [
      "\u001b[1;31m---------------------------------------------------------------------------\u001b[0m",
      "\u001b[1;31mValueError\u001b[0m                                Traceback (most recent call last)",
      "Cell \u001b[1;32mIn[8], line 2\u001b[0m\n\u001b[0;32m      1\u001b[0m list2\u001b[38;5;241m=\u001b[39m[\u001b[38;5;241m45\u001b[39m,\u001b[38;5;241m56\u001b[39m,\u001b[38;5;241m63\u001b[39m,\u001b[38;5;241m25\u001b[39m,\u001b[38;5;241m85\u001b[39m,\u001b[38;5;241m47\u001b[39m,\u001b[38;5;241m98\u001b[39m]\n\u001b[1;32m----> 2\u001b[0m index\u001b[38;5;241m=\u001b[39mlist2\u001b[38;5;241m.\u001b[39mindex(\u001b[38;5;241m5\u001b[39m)\n\u001b[0;32m      3\u001b[0m \u001b[38;5;28mprint\u001b[39m(index)\n",
      "\u001b[1;31mValueError\u001b[0m: 5 is not in list"
     ]
    }
   ],
   "source": [
    "list2=[45,56,63,25,85,47,98]\n",
    "index=list2.index(5)\n",
    "print(index)"
   ]
  },
  {
   "cell_type": "code",
   "execution_count": 9,
   "id": "9c14ad3d-e95c-4da2-b559-98014a2d4938",
   "metadata": {},
   "outputs": [
    {
     "name": "stdout",
     "output_type": "stream",
     "text": [
      "3\n"
     ]
    }
   ],
   "source": [
    "list2=[45,56,63,25,85,47,98]\n",
    "index=list2.index(25)\n",
    "print(index)"
   ]
  },
  {
   "cell_type": "code",
   "execution_count": 10,
   "id": "c0edc9b2-9195-472b-b2c4-77d3c62bc316",
   "metadata": {},
   "outputs": [
    {
     "name": "stdout",
     "output_type": "stream",
     "text": [
      "0b111000\n"
     ]
    }
   ],
   "source": [
    "z=bin(56)\n",
    "print(z)"
   ]
  },
  {
   "cell_type": "code",
   "execution_count": 17,
   "id": "45249624-b5a7-4df5-aff3-555d0cbff4f7",
   "metadata": {},
   "outputs": [
    {
     "name": "stdin",
     "output_type": "stream",
     "text": [
      "Enter your name please Dilkash\n"
     ]
    },
    {
     "name": "stdout",
     "output_type": "stream",
     "text": [
      "Hallo Your name is Dilkash\n"
     ]
    }
   ],
   "source": [
    "x=input(\"Enter your name please\")\n",
    "print(\"Hallo \"+\"Your name is\",x)"
   ]
  },
  {
   "cell_type": "code",
   "execution_count": 22,
   "id": "877e98be-3094-44b7-b5cf-ffcebd3d9011",
   "metadata": {},
   "outputs": [
    {
     "name": "stdin",
     "output_type": "stream",
     "text": [
      "Enter the percentage of student 35\n"
     ]
    },
    {
     "name": "stdout",
     "output_type": "stream",
     "text": [
      "please enter the percentage above 60 \n"
     ]
    }
   ],
   "source": [
    "a=int(input(\"Enter the percentage of student\"))\n",
    "if a>=90:\n",
    "    print(\"The student is Grade A\")\n",
    "if a>=75 and a<90:\n",
    "    print(\"The student is Grade B\")\n",
    "if a>=65 and a<75:\n",
    "    print(\"The student is Grade C\")\n",
    "else:\n",
    "    print(\"please enter the percentage above 60 \")"
   ]
  },
  {
   "cell_type": "code",
   "execution_count": 3,
   "id": "4490aaa5-da13-439d-8c6f-fa1a59c34c4b",
   "metadata": {},
   "outputs": [
    {
     "name": "stdin",
     "output_type": "stream",
     "text": [
      "Enter the any number 56\n"
     ]
    },
    {
     "name": "stdout",
     "output_type": "stream",
     "text": [
      "56\n",
      "112\n",
      "168\n",
      "224\n",
      "280\n",
      "336\n",
      "392\n",
      "448\n",
      "504\n",
      "560\n",
      "This is your compelete table \n"
     ]
    }
   ],
   "source": [
    "a=int(input(\"Enter the any number\"))\n",
    "i=1\n",
    "n=10\n",
    "while i<=10:\n",
    "    print(a*i)\n",
    "    i=i+1\n",
    "print(\"This is your compelete table \")"
   ]
  },
  {
   "cell_type": "code",
   "execution_count": 26,
   "id": "705a2656-059c-4fec-9ed8-ebf686b4dfea",
   "metadata": {},
   "outputs": [
    {
     "name": "stdout",
     "output_type": "stream",
     "text": [
      "Hello Dilkash\n",
      "Hello Dilkash\n",
      "Hello Dilkash\n",
      "Hello Dilkash\n",
      "Hello Dilkash\n",
      "Hello Dilkash\n",
      "Hello Dilkash\n",
      "Hello Dilkash\n",
      "Hello Dilkash\n",
      "Hello Dilkash\n",
      "Hello Dilkash\n",
      "Hello Dilkash\n",
      "Hello Dilkash\n",
      "Hello Dilkash\n",
      "Hello Dilkash\n",
      "Hello Dilkash\n",
      "Hello Dilkash\n",
      "Hello Dilkash\n",
      "Hello Dilkash\n",
      "Hello Dilkash\n",
      "Hello Dilkash\n",
      "Hello Dilkash\n",
      "Hello Dilkash\n",
      "Hello Dilkash\n",
      "Hello Dilkash\n"
     ]
    }
   ],
   "source": [
    "count=0\n",
    "n=25\n",
    "while count<25:\n",
    "    print(\"Hello Dilkash\")\n",
    "    count=count+1"
   ]
  },
  {
   "cell_type": "code",
   "execution_count": 31,
   "id": "a90fe3e1-18a5-44e9-833a-fbd97b10e0cf",
   "metadata": {},
   "outputs": [
    {
     "name": "stdin",
     "output_type": "stream",
     "text": [
      "Enter input 1:  52\n",
      "Enter input 2:  65\n"
     ]
    },
    {
     "name": "stdout",
     "output_type": "stream",
     "text": [
      "Result is :  117\n"
     ]
    }
   ],
   "source": [
    "def calculator():\n",
    "    a=int(input(\"Enter input 1: \"))\n",
    "    b=int(input(\"Enter input 2: \"))\n",
    "    c=a+b\n",
    "    print(\"Result is : \",c)\n",
    "calculator()    \n",
    "    "
   ]
  },
  {
   "cell_type": "code",
   "execution_count": 34,
   "id": "9005df5f-dcca-4d88-bb6b-80adf6b3d628",
   "metadata": {},
   "outputs": [
    {
     "name": "stdin",
     "output_type": "stream",
     "text": [
      "Enter your input:  8\n"
     ]
    },
    {
     "name": "stdout",
     "output_type": "stream",
     "text": [
      " Factorial is :  40320\n"
     ]
    }
   ],
   "source": [
    "def fact():\n",
    "    a=int(input(\"Enter your input: \"))\n",
    "    f=1\n",
    "    for i in range(1,a+1):\n",
    "        f=f*i\n",
    "    print(\" Factorial is : \",f)\n",
    "fact()"
   ]
  },
  {
   "cell_type": "markdown",
   "id": "358baa75-e01b-4ddd-9c58-c5560e8b87b5",
   "metadata": {},
   "source": [
    "\n"
   ]
  },
  {
   "cell_type": "markdown",
   "id": "50e960e6-80e1-45ac-b353-cf8f9086f25e",
   "metadata": {},
   "source": [
    "Reverse Number"
   ]
  },
  {
   "cell_type": "code",
   "execution_count": 43,
   "id": "c3625009-2b0a-48d2-866f-1ddb56c5e83a",
   "metadata": {},
   "outputs": [
    {
     "name": "stdin",
     "output_type": "stream",
     "text": [
      "Enter the number 5284\n"
     ]
    },
    {
     "name": "stdout",
     "output_type": "stream",
     "text": [
      "Reverse number is  4825\n"
     ]
    }
   ],
   "source": [
    "def reverse(number):\n",
    "    number=int(input(\"Enter the number\"))\n",
    "    MyList=list(str(number))\n",
    "    ReverseNum=int(\"\".join(MyList[::-1]))\n",
    "    print(\"Reverse number is \",ReverseNum)\n",
    "reverse(1234)    "
   ]
  },
  {
   "cell_type": "code",
   "execution_count": 50,
   "id": "ba327a70-c35a-4d9e-a7d0-4bdd19e5a49c",
   "metadata": {},
   "outputs": [
    {
     "name": "stdin",
     "output_type": "stream",
     "text": [
      "Enter any number : 1256\n"
     ]
    },
    {
     "name": "stdout",
     "output_type": "stream",
     "text": [
      "Reverse number is : 6521\n"
     ]
    }
   ],
   "source": [
    "def reverse():\n",
    "    a=int(input(\"Enter any number :\"))\n",
    "    c=0\n",
    "    while a!=0:\n",
    "        b=a%10\n",
    "        c=c*10+b\n",
    "        a=a//10\n",
    "    print(\"Reverse number is :\",c)\n",
    "    \n",
    "\n",
    "reverse()            \n",
    "            "
   ]
  },
  {
   "cell_type": "code",
   "execution_count": 1,
   "id": "99e9bc50-83e8-43d2-81bf-f41f86a86027",
   "metadata": {},
   "outputs": [
    {
     "name": "stdout",
     "output_type": "stream",
     "text": [
      "100\n"
     ]
    }
   ],
   "source": [
    "print(100)"
   ]
  },
  {
   "cell_type": "code",
   "execution_count": 2,
   "id": "0e7024ce-bc5a-43dc-ae82-2d0da30db097",
   "metadata": {},
   "outputs": [
    {
     "data": {
      "text/plain": [
       "int"
      ]
     },
     "execution_count": 2,
     "metadata": {},
     "output_type": "execute_result"
    }
   ],
   "source": [
    "type(10)"
   ]
  },
  {
   "cell_type": "code",
   "execution_count": 3,
   "id": "abf4eff9-1f0b-4a42-b33e-8bae14baee36",
   "metadata": {},
   "outputs": [
    {
     "data": {
      "text/plain": [
       "float"
      ]
     },
     "execution_count": 3,
     "metadata": {},
     "output_type": "execute_result"
    }
   ],
   "source": [
    "type(10.25)"
   ]
  },
  {
   "cell_type": "code",
   "execution_count": 4,
   "id": "243caa33-71b3-4278-9731-8dd56bfe424d",
   "metadata": {},
   "outputs": [
    {
     "data": {
      "text/plain": [
       "str"
      ]
     },
     "execution_count": 4,
     "metadata": {},
     "output_type": "execute_result"
    }
   ],
   "source": [
    "type(\"Ajay\")"
   ]
  },
  {
   "cell_type": "code",
   "execution_count": 5,
   "id": "ba3455c5-66ff-4279-94f3-4fad836e2878",
   "metadata": {},
   "outputs": [
    {
     "name": "stdout",
     "output_type": "stream",
     "text": [
      "<class 'int'>\n"
     ]
    }
   ],
   "source": [
    "print(type(10))"
   ]
  },
  {
   "cell_type": "code",
   "execution_count": 6,
   "id": "ddeacc50-5709-4508-a488-cb4756506ce8",
   "metadata": {},
   "outputs": [
    {
     "name": "stdout",
     "output_type": "stream",
     "text": [
      "3.0\n"
     ]
    }
   ],
   "source": [
    "print(float(int(3.14)))"
   ]
  },
  {
   "cell_type": "code",
   "execution_count": 9,
   "id": "f31f7772-f680-45e5-a888-030559b833c8",
   "metadata": {},
   "outputs": [
    {
     "name": "stdout",
     "output_type": "stream",
     "text": [
      "54321\n"
     ]
    }
   ],
   "source": [
    "x=\"12345\"\n",
    "print(x[::-1])"
   ]
  },
  {
   "cell_type": "code",
   "execution_count": 1,
   "id": "ac0226bc-0dde-4f0d-8059-f887c20f5c09",
   "metadata": {},
   "outputs": [
    {
     "name": "stdout",
     "output_type": "stream",
     "text": [
      "Dilkash\n"
     ]
    }
   ],
   "source": [
    "x=\"Dilkash\"\n",
    "print(x)"
   ]
  },
  {
   "cell_type": "code",
   "execution_count": 2,
   "id": "3142040e-8d5c-4aca-8a5a-e3f2493f3bf3",
   "metadata": {},
   "outputs": [
    {
     "name": "stdout",
     "output_type": "stream",
     "text": [
      "Dilkash\n"
     ]
    }
   ],
   "source": [
    "print(x[0:])"
   ]
  },
  {
   "cell_type": "code",
   "execution_count": 3,
   "id": "09cf3be6-dce8-4759-beca-b5e8ad2efd8e",
   "metadata": {},
   "outputs": [
    {
     "name": "stdout",
     "output_type": "stream",
     "text": [
      "Dilkas\n"
     ]
    }
   ],
   "source": [
    "print(x[:-1])"
   ]
  },
  {
   "cell_type": "code",
   "execution_count": 4,
   "id": "ac3ef7ce-136e-42a8-b931-32b9f3becd0a",
   "metadata": {},
   "outputs": [
    {
     "ename": "SyntaxError",
     "evalue": "invalid syntax (4148993190.py, line 1)",
     "output_type": "error",
     "traceback": [
      "\u001b[1;36m  Cell \u001b[1;32mIn[4], line 1\u001b[1;36m\u001b[0m\n\u001b[1;33m    print(-1:-5)\u001b[0m\n\u001b[1;37m            ^\u001b[0m\n\u001b[1;31mSyntaxError\u001b[0m\u001b[1;31m:\u001b[0m invalid syntax\n"
     ]
    }
   ],
   "source": [
    "print(-1:-5)"
   ]
  },
  {
   "cell_type": "code",
   "execution_count": 9,
   "id": "e65d9b53-c314-4989-a9b0-bc9615d0d2ba",
   "metadata": {},
   "outputs": [
    {
     "name": "stdout",
     "output_type": "stream",
     "text": [
      "hsakliD\n"
     ]
    }
   ],
   "source": [
    "print(x[::-1])"
   ]
  },
  {
   "cell_type": "code",
   "execution_count": 10,
   "id": "5e34d379-556b-496d-a239-90f6f9dfcd10",
   "metadata": {},
   "outputs": [
    {
     "ename": "SyntaxError",
     "evalue": "invalid syntax (860884111.py, line 1)",
     "output_type": "error",
     "traceback": [
      "\u001b[1;36m  Cell \u001b[1;32mIn[10], line 1\u001b[1;36m\u001b[0m\n\u001b[1;33m    print(-1:-5:-1)\u001b[0m\n\u001b[1;37m            ^\u001b[0m\n\u001b[1;31mSyntaxError\u001b[0m\u001b[1;31m:\u001b[0m invalid syntax\n"
     ]
    }
   ],
   "source": [
    "print(-1:-5:-1)"
   ]
  },
  {
   "cell_type": "code",
   "execution_count": 1,
   "id": "ba70e63f-07ec-47b6-a5b7-5dd827c46978",
   "metadata": {},
   "outputs": [
    {
     "ename": "NameError",
     "evalue": "name 'x' is not defined",
     "output_type": "error",
     "traceback": [
      "\u001b[1;31m---------------------------------------------------------------------------\u001b[0m",
      "\u001b[1;31mNameError\u001b[0m                                 Traceback (most recent call last)",
      "Cell \u001b[1;32mIn[1], line 1\u001b[0m\n\u001b[1;32m----> 1\u001b[0m \u001b[38;5;28mprint\u001b[39m(x[:\u001b[38;5;241m-\u001b[39m\u001b[38;5;241m5\u001b[39m:\u001b[38;5;241m-\u001b[39m\u001b[38;5;241m1\u001b[39m])\n",
      "\u001b[1;31mNameError\u001b[0m: name 'x' is not defined"
     ]
    }
   ],
   "source": [
    "print(x[:-5:-1])"
   ]
  },
  {
   "cell_type": "code",
   "execution_count": 11,
   "id": "f9d20149-a7d0-480e-883f-6c6bc53567b0",
   "metadata": {},
   "outputs": [
    {
     "name": "stdout",
     "output_type": "stream",
     "text": [
      "olleH\n"
     ]
    }
   ],
   "source": [
    "def SliceString(s):\n",
    "   print(s[::-1])\n",
    "SliceString(\"Hello\")    "
   ]
  },
  {
   "cell_type": "code",
   "execution_count": 2,
   "id": "909740bb-ad4a-41e2-b2b0-9b8c052ad38b",
   "metadata": {},
   "outputs": [
    {
     "name": "stdout",
     "output_type": "stream",
     "text": [
      "[1, 2, 4, 3]\n"
     ]
    }
   ],
   "source": [
    "numbers=[1,2,4,3]\n",
    "result=sum(numbers)\n",
    "print(numbers)"
   ]
  },
  {
   "cell_type": "code",
   "execution_count": 4,
   "id": "ba2a35eb-2324-46a0-a268-4bbfbf88f7c3",
   "metadata": {},
   "outputs": [
    {
     "name": "stdout",
     "output_type": "stream",
     "text": [
      "2024-05-25 13:40:00.631855\n",
      "<class 'datetime.datetime'>\n"
     ]
    }
   ],
   "source": [
    "import datetime\n",
    "current_time=datetime.datetime.now()\n",
    "print(current_time)\n",
    "print(type(current_time))\n"
   ]
  },
  {
   "cell_type": "code",
   "execution_count": 7,
   "id": "116a4d9b-5210-4131-ab93-f91489a18c15",
   "metadata": {},
   "outputs": [
    {
     "name": "stdin",
     "output_type": "stream",
     "text": [
      " 10\n",
      " \"kal\"\n"
     ]
    },
    {
     "name": "stdout",
     "output_type": "stream",
     "text": [
      "only entering integer number\n",
      "Program End!\n"
     ]
    }
   ],
   "source": [
    "try:\n",
    "    num1=int(input())\n",
    "    num2=int(input())\n",
    "    print(num1+num2)\n",
    "except ValueError:\n",
    "    print(\"only entering integer number\")\n",
    "except:\n",
    "    print(\"Unknown Error\")\n",
    "else:\n",
    "    print(\"Everything is fine\")\n",
    "finally:\n",
    "    print(\"Program End!\")\n",
    "\n",
    "    \n",
    "    \n",
    "    "
   ]
  },
  {
   "cell_type": "code",
   "execution_count": 4,
   "id": "358a7743-1119-4e7f-a4f0-3e801b0967fb",
   "metadata": {},
   "outputs": [
    {
     "name": "stdin",
     "output_type": "stream",
     "text": [
      " 10\n",
      " 25.5\n"
     ]
    },
    {
     "ename": "ValueError",
     "evalue": "invalid literal for int() with base 10: '25.5'",
     "output_type": "error",
     "traceback": [
      "\u001b[1;31m---------------------------------------------------------------------------\u001b[0m",
      "\u001b[1;31mValueError\u001b[0m                                Traceback (most recent call last)",
      "Cell \u001b[1;32mIn[4], line 2\u001b[0m\n\u001b[0;32m      1\u001b[0m num1\u001b[38;5;241m=\u001b[39m\u001b[38;5;28mint\u001b[39m(\u001b[38;5;28minput\u001b[39m())\n\u001b[1;32m----> 2\u001b[0m num2\u001b[38;5;241m=\u001b[39m\u001b[38;5;28mint\u001b[39m(\u001b[38;5;28minput\u001b[39m())\n\u001b[0;32m      3\u001b[0m \u001b[38;5;28mprint\u001b[39m(num1\u001b[38;5;241m+\u001b[39mnum2)\n",
      "\u001b[1;31mValueError\u001b[0m: invalid literal for int() with base 10: '25.5'"
     ]
    }
   ],
   "source": [
    "num1=int(input())\n",
    "num2=int(input())\n",
    "print(num1+num2)"
   ]
  },
  {
   "cell_type": "code",
   "execution_count": 8,
   "id": "d266e262-b1cc-4e49-a9d6-13014242df88",
   "metadata": {},
   "outputs": [
    {
     "name": "stdout",
     "output_type": "stream",
     "text": [
      "3.0\n"
     ]
    }
   ],
   "source": [
    "num=[1,2,3,4,5]\n",
    "avg=sum(num)/len(num)\n",
    "print(avg)"
   ]
  },
  {
   "cell_type": "code",
   "execution_count": 8,
   "id": "7f0b76a1-0e08-467c-8629-188a48903ede",
   "metadata": {},
   "outputs": [
    {
     "name": "stdin",
     "output_type": "stream",
     "text": [
      "Enter your number : 500\n"
     ]
    },
    {
     "name": "stdout",
     "output_type": "stream",
     "text": [
      "You have entered number : 500\n",
      "you can enter number below 100 upto 100 \n"
     ]
    }
   ],
   "source": [
    "num=int(input('Enter your number :'))\n",
    "\n",
    "if num<=100:\n",
    "    current_num=1\n",
    "    while current_num<=num:\n",
    "        if current_num%2==0:\n",
    "            print(current_num,end=\" \")\n",
    "        current_num+=1\n",
    "else:\n",
    "    print('You have entered number :',num)\n",
    "    print('you can enter number below 100 upto 100 ')"
   ]
  },
  {
   "cell_type": "code",
   "execution_count": 9,
   "id": "3134744a-db9c-4434-a2fe-ddd5fa6b512c",
   "metadata": {},
   "outputs": [
    {
     "name": "stdin",
     "output_type": "stream",
     "text": [
      "Enter your number : 500\n"
     ]
    },
    {
     "name": "stdout",
     "output_type": "stream",
     "text": [
      "You have entered number : 500\n",
      "you can enter number below 100 upto 100 \n"
     ]
    }
   ],
   "source": [
    "num=int(input('Enter your number :'))\n",
    "\n",
    "if num>100:\n",
    "    print('You have entered number :',num)\n",
    "    print('you can enter number below 100 upto 100 ')\n",
    "else:\n",
    "    current_num=1\n",
    "    while current_num<=num:\n",
    "        if current_num%2==0:\n",
    "            print(current_num,end=\" \")\n",
    "        current_num+=1\n",
    "   "
   ]
  },
  {
   "cell_type": "code",
   "execution_count": null,
   "id": "a6fffccc-8d09-406e-9bfe-b1ada1c52640",
   "metadata": {},
   "outputs": [],
   "source": []
  }
 ],
 "metadata": {
  "kernelspec": {
   "display_name": "Python 3 (ipykernel)",
   "language": "python",
   "name": "python3"
  },
  "language_info": {
   "codemirror_mode": {
    "name": "ipython",
    "version": 3
   },
   "file_extension": ".py",
   "mimetype": "text/x-python",
   "name": "python",
   "nbconvert_exporter": "python",
   "pygments_lexer": "ipython3",
   "version": "3.11.7"
  }
 },
 "nbformat": 4,
 "nbformat_minor": 5
}
