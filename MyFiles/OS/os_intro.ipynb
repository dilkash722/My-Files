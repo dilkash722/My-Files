{
 "cells": [
  {
   "cell_type": "code",
   "execution_count": 2,
   "id": "5ca5438a-885b-4339-aa4e-dbe4f8ed2a91",
   "metadata": {},
   "outputs": [],
   "source": [
    "import os"
   ]
  },
  {
   "cell_type": "code",
   "execution_count": 2,
   "id": "44c659d0-5234-46ca-8924-1d214a704cb1",
   "metadata": {},
   "outputs": [
    {
     "data": {
      "text/plain": [
       "'C:\\\\Users\\\\dilka\\\\OneDrive\\\\Desktop\\\\DilkashPython\\\\OS'"
      ]
     },
     "execution_count": 2,
     "metadata": {},
     "output_type": "execute_result"
    }
   ],
   "source": [
    "os.getcwd()"
   ]
  },
  {
   "cell_type": "code",
   "execution_count": 3,
   "id": "21905b3b-4479-421a-9579-e2ea39107d35",
   "metadata": {},
   "outputs": [
    {
     "name": "stdout",
     "output_type": "stream",
     "text": [
      " Volume in drive C is Windows-SSD\n",
      " Volume Serial Number is BE72-CC88\n",
      "\n",
      " Directory of C:\\Users\\dilka\\OneDrive\\Desktop\\DilkashPython\\OS\n",
      "\n",
      "11-06-2024  20:31    <DIR>          .\n",
      "11-06-2024  20:28    <DIR>          ..\n",
      "11-06-2024  20:29    <DIR>          .ipynb_checkpoints\n",
      "11-06-2024  20:31             1,213 os_intro.ipynb\n",
      "               1 File(s)          1,213 bytes\n",
      "               3 Dir(s)  24,137,420,800 bytes free\n"
     ]
    }
   ],
   "source": [
    "ls"
   ]
  },
  {
   "cell_type": "code",
   "execution_count": 6,
   "id": "33e391c3-66f1-44a3-959a-16216bea0c1e",
   "metadata": {},
   "outputs": [
    {
     "name": "stdout",
     "output_type": "stream",
     "text": [
      " Volume in drive C is Windows-SSD\n",
      " Volume Serial Number is BE72-CC88\n",
      "\n",
      " Directory of C:\\Users\\dilka\\OneDrive\\Desktop\\DilkashPython\n",
      "\n",
      "11-06-2024  20:28    <DIR>          .\n",
      "11-06-2024  19:55    <DIR>          ..\n",
      "07-06-2024  19:36    <DIR>          .ipynb_checkpoints\n",
      "31-05-2024  14:40             8,184 class.ipynb\n",
      "23-04-2024  19:51           (6,115) DataType.ipynb\n",
      "07-06-2024  20:17            21,935 Demo.ipynb\n",
      "01-05-2024  13:18           (2,128) Dictionary.ipynb\n",
      "13-05-2024  08:30           (1,489) Function.ipynb\n",
      "31-05-2024  15:07             2,200 html.txt\n",
      "31-05-2024  20:24                16 intro.txt\n",
      "09-06-2024  14:33    <DIR>          Inventory_json\n",
      "07-06-2024  19:37    <DIR>          Inventory_text\n",
      "29-04-2024  16:32           (6,258) List.ipynb\n",
      "28-04-2024  20:34              (73) List.py\n",
      "10-06-2024  15:43    <DIR>          Numpy\n",
      "11-06-2024  20:31    <DIR>          OS\n",
      "31-05-2024  15:45            15,298 read data.ipynb\n",
      "27-04-2024  21:35          (20,271) Untitled.ipynb\n",
      "05-05-2024  16:04           (2,319) Untitled1.ipynb\n",
      "              12 File(s)         86,286 bytes\n",
      "               7 Dir(s)  24,136,785,920 bytes free\n"
     ]
    }
   ],
   "source": [
    "ls\n"
   ]
  },
  {
   "cell_type": "code",
   "execution_count": 7,
   "id": "f2cc39c5-10d8-4985-9faa-a95fe8e78dfb",
   "metadata": {},
   "outputs": [
    {
     "name": "stdout",
     "output_type": "stream",
     "text": [
      "C:\\Users\\dilka\\OneDrive\\Desktop\\DilkashPython\\OS\n"
     ]
    }
   ],
   "source": [
    "cd OS\n"
   ]
  },
  {
   "cell_type": "code",
   "execution_count": 8,
   "id": "61a8fd55-cdf2-401c-ba4a-ced1b8f09a2b",
   "metadata": {},
   "outputs": [
    {
     "data": {
      "text/plain": [
       "'C:\\\\Users\\\\dilka\\\\OneDrive\\\\Desktop\\\\DilkashPython\\\\OS'"
      ]
     },
     "execution_count": 8,
     "metadata": {},
     "output_type": "execute_result"
    }
   ],
   "source": [
    "os.getcwd()"
   ]
  },
  {
   "cell_type": "code",
   "execution_count": 9,
   "id": "3e752949-ef19-42e5-a76c-64139024a2c7",
   "metadata": {},
   "outputs": [
    {
     "ename": "SyntaxError",
     "evalue": "invalid syntax (3728511953.py, line 1)",
     "output_type": "error",
     "traceback": [
      "\u001b[1;36m  Cell \u001b[1;32mIn[9], line 1\u001b[1;36m\u001b[0m\n\u001b[1;33m    d:\u001b[0m\n\u001b[1;37m      ^\u001b[0m\n\u001b[1;31mSyntaxError\u001b[0m\u001b[1;31m:\u001b[0m invalid syntax\n"
     ]
    }
   ],
   "source": [
    "\\Desktop\\\\DilkashPython\\\\OS'\n"
   ]
  },
  {
   "cell_type": "code",
   "execution_count": 11,
   "id": "d60f28a3-4112-4ffe-8e0b-75f5d98c440a",
   "metadata": {},
   "outputs": [],
   "source": [
    "os.chdir(\"../\")"
   ]
  },
  {
   "cell_type": "code",
   "execution_count": 14,
   "id": "c323a4a7-bace-4535-a106-08bcea3116e5",
   "metadata": {},
   "outputs": [
    {
     "data": {
      "text/plain": [
       "'C:\\\\Users\\\\dilka\\\\OneDrive\\\\Desktop\\\\DilkashPython\\\\OS'"
      ]
     },
     "execution_count": 14,
     "metadata": {},
     "output_type": "execute_result"
    }
   ],
   "source": [
    "os.getcwd()\n"
   ]
  },
  {
   "cell_type": "code",
   "execution_count": 13,
   "id": "6519c8c4-5b5b-47a6-9c5c-22f70434f800",
   "metadata": {},
   "outputs": [],
   "source": [
    "os.chdir(\"OS\")"
   ]
  },
  {
   "cell_type": "code",
   "execution_count": 15,
   "id": "ae5db9ec-3d34-4c16-a24e-745d6706c225",
   "metadata": {},
   "outputs": [],
   "source": [
    "os.chdir(\"../\")"
   ]
  },
  {
   "cell_type": "code",
   "execution_count": 16,
   "id": "8a8f9da9-f2d1-479b-a82e-c54dcb9413df",
   "metadata": {},
   "outputs": [],
   "source": [
    "os.chdir(\"../\")"
   ]
  },
  {
   "cell_type": "code",
   "execution_count": 17,
   "id": "13df3ea2-921a-4b7d-a840-f71913bde065",
   "metadata": {},
   "outputs": [
    {
     "data": {
      "text/plain": [
       "'C:\\\\Users\\\\dilka\\\\OneDrive\\\\Desktop'"
      ]
     },
     "execution_count": 17,
     "metadata": {},
     "output_type": "execute_result"
    }
   ],
   "source": [
    "os.getcwd()"
   ]
  },
  {
   "cell_type": "code",
   "execution_count": 18,
   "id": "4ed627d1-adbd-4914-9681-49958710ebb5",
   "metadata": {},
   "outputs": [],
   "source": [
    "os.chdir(\"DilkashPython/OS\")"
   ]
  },
  {
   "cell_type": "code",
   "execution_count": 19,
   "id": "0a0b9286-2457-4a7a-a6ea-465ef5559413",
   "metadata": {},
   "outputs": [
    {
     "data": {
      "text/plain": [
       "'C:\\\\Users\\\\dilka\\\\OneDrive\\\\Desktop\\\\DilkashPython\\\\OS'"
      ]
     },
     "execution_count": 19,
     "metadata": {},
     "output_type": "execute_result"
    }
   ],
   "source": [
    "os.getcwd()"
   ]
  },
  {
   "cell_type": "code",
   "execution_count": 20,
   "id": "195a354c-137e-408a-b3b4-4b83e6b7ba09",
   "metadata": {},
   "outputs": [
    {
     "name": "stdout",
     "output_type": "stream",
     "text": [
      " Volume in drive C is Windows-SSD\n",
      " Volume Serial Number is BE72-CC88\n",
      "\n",
      " Directory of C:\\Users\\dilka\\OneDrive\\Desktop\\DilkashPython\\OS\n",
      "\n",
      "11-06-2024  20:39    <DIR>          .\n",
      "11-06-2024  20:28    <DIR>          ..\n",
      "11-06-2024  20:29    <DIR>          .ipynb_checkpoints\n",
      "11-06-2024  20:39             7,205 os_intro.ipynb\n",
      "               1 File(s)          7,205 bytes\n",
      "               3 Dir(s)  24,132,001,792 bytes free\n"
     ]
    }
   ],
   "source": [
    "ls"
   ]
  },
  {
   "cell_type": "code",
   "execution_count": 3,
   "id": "169929ce-f47e-4f96-a82a-29df22411fde",
   "metadata": {},
   "outputs": [
    {
     "data": {
      "text/plain": [
       "'C:\\\\Users\\\\dilka\\\\OneDrive\\\\Desktop\\\\DilkashPython\\\\OS'"
      ]
     },
     "execution_count": 3,
     "metadata": {},
     "output_type": "execute_result"
    }
   ],
   "source": [
    "os.getcwd()"
   ]
  },
  {
   "cell_type": "code",
   "execution_count": 6,
   "id": "6c26c861-1945-43ed-b648-9e5dc4039b0a",
   "metadata": {},
   "outputs": [],
   "source": [
    "os.chdir(\"../\")"
   ]
  },
  {
   "cell_type": "code",
   "execution_count": 5,
   "id": "ae5c93ed-a893-426b-abc9-f04759b99172",
   "metadata": {},
   "outputs": [
    {
     "data": {
      "text/plain": [
       "'C:\\\\Users\\\\dilka\\\\OneDrive\\\\Desktop\\\\DilkashPython'"
      ]
     },
     "execution_count": 5,
     "metadata": {},
     "output_type": "execute_result"
    }
   ],
   "source": [
    "os.getcwd()"
   ]
  },
  {
   "cell_type": "code",
   "execution_count": 7,
   "id": "fa4611f8-1a65-4555-b94a-e9cda543eed1",
   "metadata": {},
   "outputs": [],
   "source": [
    "os.chdir(\"../\")"
   ]
  },
  {
   "cell_type": "code",
   "execution_count": 8,
   "id": "f08e021c-3efd-469b-adda-d298f049f81c",
   "metadata": {},
   "outputs": [
    {
     "data": {
      "text/plain": [
       "'C:\\\\Users\\\\dilka\\\\OneDrive'"
      ]
     },
     "execution_count": 8,
     "metadata": {},
     "output_type": "execute_result"
    }
   ],
   "source": [
    "os.getcwd()"
   ]
  },
  {
   "cell_type": "code",
   "execution_count": 9,
   "id": "277fd81f-fbc1-4074-b89d-f313bfe4fe30",
   "metadata": {},
   "outputs": [],
   "source": [
    "os.chdir(\"Desktop\")"
   ]
  },
  {
   "cell_type": "code",
   "execution_count": 10,
   "id": "e69d77da-0169-4591-9c44-1f0d13fbe18f",
   "metadata": {},
   "outputs": [
    {
     "data": {
      "text/plain": [
       "'C:\\\\Users\\\\dilka\\\\OneDrive\\\\Desktop'"
      ]
     },
     "execution_count": 10,
     "metadata": {},
     "output_type": "execute_result"
    }
   ],
   "source": [
    "os.getcwd()"
   ]
  },
  {
   "cell_type": "code",
   "execution_count": 11,
   "id": "d58038df-a3e7-4821-b5f5-279993a12ca6",
   "metadata": {},
   "outputs": [
    {
     "name": "stderr",
     "output_type": "stream",
     "text": [
      "'ls' is not recognized as an internal or external command,\n",
      "operable program or batch file.\n"
     ]
    }
   ],
   "source": [
    "!ls"
   ]
  },
  {
   "cell_type": "code",
   "execution_count": 12,
   "id": "cf2c72f8-1580-4e26-b983-c5c0c7aac964",
   "metadata": {},
   "outputs": [
    {
     "name": "stderr",
     "output_type": "stream",
     "text": [
      "'ls' is not recognized as an internal or external command,\n",
      "operable program or batch file.\n"
     ]
    }
   ],
   "source": [
    "!ls"
   ]
  },
  {
   "cell_type": "code",
   "execution_count": 13,
   "id": "38e9ab7b-6435-48f4-bc55-146d9b94fe48",
   "metadata": {},
   "outputs": [
    {
     "name": "stdout",
     "output_type": "stream",
     "text": [
      " Volume in drive C is Windows-SSD\n",
      " Volume Serial Number is BE72-CC88\n",
      "\n",
      " Directory of C:\\Users\\dilka\\OneDrive\\Desktop\n",
      "\n",
      "11-06-2024  19:55    <DIR>          .\n",
      "12-06-2024  12:21    <DIR>          ..\n",
      "20-04-2024  09:46    <DIR>          .ipynb_checkpoints\n",
      "05-12-2023  11:56    <DIR>          10201_database\n",
      "05-12-2023  11:32     (655,025,354) 10201_database.zip\n",
      "14-01-2024  11:04         (104,848) 1705210457687.jpg\n",
      "12-02-2024  12:03            45,593 3df60c240c0c74f8946b6fbfa4c09784.jpg\n",
      "21-02-2024  20:22          (95,200) 706093059462103001.jpg\n",
      "14-05-2024  13:59             2,451 Abdus - Chrome.lnk\n",
      "15-01-2024  09:04         (463,390) a-to-z-alphabet-chart-with-pictures.pdf\n",
      "16-11-2023  14:52             (294) Audio Tag.html\n",
      "25-11-2023  12:15    <DIR>          Bairk\n",
      "21-12-2023  12:06         (180,966) body-parts-preview-938x1024.jpg\n",
      "02-12-2023  19:54           (1,239) Checkbox.html\n",
      "21-02-2024  20:51         (171,563) class 1 eng.docx\n",
      "04-12-2023  16:13     6,145,067,884 Dhootha.S01.1080p.Hindi.WEB-DL.5.1.ESub.x264.Vegamovies.to.zip\n",
      "11-06-2024  20:28    <DIR>          DilkashPython\n",
      "27-02-2024  11:43          (10,800) DUASN.xlsx\n",
      "13-01-2024  08:14       (2,285,939) englishclub-poster-1-100-A3.jpg\n",
      "30-05-2024  15:19    <DIR>          EVS\n",
      "23-01-2024  11:47       (1,703,324) INDIAN_FREEDOM_FIGHTER_75.pdf\n",
      "30-05-2024  15:25    <DIR>          JAVASCRIPT\n",
      "30-05-2024  15:25    <DIR>          MASN\n",
      "06-02-2024  11:33         (153,393) maxresdefault.jpg\n",
      "14-05-2024  13:33             2,407 Md Dilkhush - Chrome.lnk\n",
      "14-05-2024  13:33             2,451 Person 1 - Chrome.lnk\n",
      "14-05-2024  13:33             2,451 Person 2 - Chrome (1).lnk\n",
      "14-05-2024  13:33             2,451 Person 2 - Chrome.lnk\n",
      "23-04-2024  19:50    <DIR>          Programs\n",
      "16-11-2023  12:26           (1,701) Radiobuttons.html\n",
      "17-11-2023  19:35           (1,781) Regist form.html\n",
      "25-01-2024  19:51           (2,390) Republic Day.txt\n",
      "15-11-2023  19:13             (454) Table Merge Column.html\n",
      "              23 File(s)  6,805,328,324 bytes\n",
      "              10 Dir(s)  22,175,850,496 bytes free\n"
     ]
    }
   ],
   "source": [
    "ls"
   ]
  },
  {
   "cell_type": "code",
   "execution_count": 14,
   "id": "39bfd90f-2bc6-4c5f-9d6a-392de85c3b23",
   "metadata": {},
   "outputs": [
    {
     "data": {
      "text/plain": [
       "['.ipynb_checkpoints',\n",
       " '10201_database',\n",
       " '10201_database.zip',\n",
       " '1705210457687.jpg',\n",
       " '3df60c240c0c74f8946b6fbfa4c09784.jpg',\n",
       " '706093059462103001.jpg',\n",
       " 'a-to-z-alphabet-chart-with-pictures.pdf',\n",
       " 'Abdus - Chrome.lnk',\n",
       " 'Audio Tag.html',\n",
       " 'Bairk',\n",
       " 'body-parts-preview-938x1024.jpg',\n",
       " 'Checkbox.html',\n",
       " 'class 1 eng.docx',\n",
       " 'desktop.ini',\n",
       " 'Dhootha.S01.1080p.Hindi.WEB-DL.5.1.ESub.x264.Vegamovies.to.zip',\n",
       " 'DilkashPython',\n",
       " 'DUASN.xlsx',\n",
       " 'englishclub-poster-1-100-A3.jpg',\n",
       " 'EVS',\n",
       " 'INDIAN_FREEDOM_FIGHTER_75.pdf',\n",
       " 'JAVASCRIPT',\n",
       " 'MASN',\n",
       " 'maxresdefault.jpg',\n",
       " 'Md Dilkhush - Chrome.lnk',\n",
       " 'Person 1 - Chrome.lnk',\n",
       " 'Person 2 - Chrome (1).lnk',\n",
       " 'Person 2 - Chrome.lnk',\n",
       " 'Programs',\n",
       " 'Radiobuttons.html',\n",
       " 'Regist form.html',\n",
       " 'Republic Day.txt',\n",
       " 'Table Merge Column.html']"
      ]
     },
     "execution_count": 14,
     "metadata": {},
     "output_type": "execute_result"
    }
   ],
   "source": [
    "os.listdir()"
   ]
  },
  {
   "cell_type": "code",
   "execution_count": 18,
   "id": "8652ff3c-5acf-4ed9-a4fa-03f60d64c672",
   "metadata": {},
   "outputs": [
    {
     "name": "stdout",
     "output_type": "stream",
     "text": [
      "10201_database\n",
      "10201_database.zip\n",
      "1705210457687.jpg\n",
      "3df60c240c0c74f8946b6fbfa4c09784.jpg\n",
      "706093059462103001.jpg\n",
      "a-to-z-alphabet-chart-with-pictures.pdf\n",
      "Abdus - Chrome.lnk\n",
      "Audio Tag.html\n",
      "Bairk\n",
      "body-parts-preview-938x1024.jpg\n",
      "Checkbox.html\n",
      "class 1 eng.docx\n",
      "desktop.ini\n",
      "Dhootha.S01.1080p.Hindi.WEB-DL.5.1.ESub.x264.Vegamovies.to.zip\n",
      "DilkashPython\n",
      "DUASN.xlsx\n",
      "englishclub-poster-1-100-A3.jpg\n",
      "EVS\n",
      "INDIAN_FREEDOM_FIGHTER_75.pdf\n",
      "JAVASCRIPT\n",
      "MASN\n",
      "maxresdefault.jpg\n",
      "Md Dilkhush - Chrome.lnk\n",
      "Person 1 - Chrome.lnk\n",
      "Person 2 - Chrome (1).lnk\n",
      "Person 2 - Chrome.lnk\n",
      "Programs\n",
      "Radiobuttons.html\n",
      "Regist form.html\n",
      "Republic Day.txt\n",
      "Table Merge Column.html\n"
     ]
    }
   ],
   "source": [
    "for i in os.listdir():\n",
    "    if i != \".ipynb_checkpoints\":\n",
    "        print(i)"
   ]
  },
  {
   "cell_type": "code",
   "execution_count": 19,
   "id": "e6f5dfa3-e84a-49e6-b2c2-6a8137b3e905",
   "metadata": {},
   "outputs": [
    {
     "data": {
      "text/plain": [
       "['class 2 eng.docx',\n",
       " 'class 3 eng.docx',\n",
       " 'English',\n",
       " 'EVS class 3.pdf',\n",
       " 'Hindi',\n",
       " 'MASB.docx',\n",
       " 'Math',\n",
       " 'msn class 1.docx']"
      ]
     },
     "execution_count": 19,
     "metadata": {},
     "output_type": "execute_result"
    }
   ],
   "source": [
    "os.listdir(\"MASN\")"
   ]
  },
  {
   "cell_type": "code",
   "execution_count": 20,
   "id": "1ceed46c-2c70-4344-b533-99cd4052196b",
   "metadata": {},
   "outputs": [
    {
     "data": {
      "text/plain": [
       "['class 2 eng.pdf',\n",
       " 'class 3 eng.pdf',\n",
       " 'class 4 eng.pdf',\n",
       " 'MASN.pdf',\n",
       " 'msn class 1.pdf']"
      ]
     },
     "execution_count": 20,
     "metadata": {},
     "output_type": "execute_result"
    }
   ],
   "source": [
    "os.listdir(\"MASN/English\")"
   ]
  },
  {
   "cell_type": "code",
   "execution_count": 21,
   "id": "57a63a7f-6b77-4891-9cf7-e52e14af72a4",
   "metadata": {},
   "outputs": [
    {
     "data": {
      "text/plain": [
       "'C:\\\\Users\\\\dilka\\\\OneDrive\\\\Desktop'"
      ]
     },
     "execution_count": 21,
     "metadata": {},
     "output_type": "execute_result"
    }
   ],
   "source": [
    "os.getcwd()"
   ]
  },
  {
   "cell_type": "code",
   "execution_count": 22,
   "id": "bb5faea0-c4a2-4afa-90e3-f448c0311f60",
   "metadata": {},
   "outputs": [],
   "source": [
    "os.mkdir(\"MASN/English/ENG\")"
   ]
  },
  {
   "cell_type": "code",
   "execution_count": 24,
   "id": "c07a076d-3020-4e2e-8444-c39e60390b3d",
   "metadata": {},
   "outputs": [
    {
     "name": "stderr",
     "output_type": "stream",
     "text": [
      "'touch' is not recognized as an internal or external command,\n",
      "operable program or batch file.\n"
     ]
    }
   ],
   "source": [
    "touch MASN/English/ENG abc.txt"
   ]
  },
  {
   "cell_type": "code",
   "execution_count": null,
   "id": "ae10a282-e2ef-4204-805b-4346ce75343f",
   "metadata": {},
   "outputs": [],
   "source": []
  }
 ],
 "metadata": {
  "kernelspec": {
   "display_name": "Python 3 (ipykernel)",
   "language": "python",
   "name": "python3"
  },
  "language_info": {
   "codemirror_mode": {
    "name": "ipython",
    "version": 3
   },
   "file_extension": ".py",
   "mimetype": "text/x-python",
   "name": "python",
   "nbconvert_exporter": "python",
   "pygments_lexer": "ipython3",
   "version": "3.11.7"
  }
 },
 "nbformat": 4,
 "nbformat_minor": 5
}
