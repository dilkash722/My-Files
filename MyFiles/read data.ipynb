{
 "cells": [
  {
   "cell_type": "code",
   "execution_count": 4,
   "id": "2e3eb19b-24e5-4323-b80c-3ca09d0bfe50",
   "metadata": {},
   "outputs": [
    {
     "name": "stdout",
     "output_type": "stream",
     "text": [
      "Hindi cinema, popularly known as Bollywood and formerly as Bombay cinema,[3] refers to the film industry based in Mumbai, engaged in production of motion pictures in Hindi language. The popular term Bollywood is a portmanteau of \"Bombay\" (former name of Mumbai) and \"Hollywood\". The industry is a part of the larger Indian cinema, which also includes South Indian cinema and other smaller film industries.[4][5][6]\n",
      "\n",
      "In 2017, Indian cinema produced 1,986 feature films, of which the largest number, 364 have been in Hindi.[4] As per data from 2014, Hindi cinema represented 43 percent of Indian net box-office revenue; Tamil and Telugu cinema represented 36 percent, and the remaining regional cinema constituted 21 percent.[7] Hindi cinema is one of the largest centres for film production in the world.[8][9][10] Hindi films sold an estimated 341 million tickets in India in 2019.[11][12] Earlier Hindi films tended to use vernacular Hindustani, mutually intelligible by speakers of either Hindi or Urdu, while modern Hindi productions increasingly incorporate elements of Hinglish.[13]\n",
      "\n",
      "The most popular commercial genre in Hindi cinema since the 1970s has been the masala film, which freely mixes different genres including action, comedy, romance, drama and melodrama along with musical numbers.[14][15] Masala films generally fall under the musical film genre, of which Indian cinema has been the largest producer since the 1960s when it exceeded the American film industry's total musical output after musical films declined in the West. Dadasaheb Phalke's silent film Raja Harishchandra (1913) is the first feature length film made in India.[16] The first Indian musical talkie was Alam Ara (1931), four years after the first Hollywood sound film The Jazz Singer (1927).\n",
      "\n",
      "Alongside commercial masala films, a distinctive genre of art films known as parallel cinema has also existed, presenting realistic content and avoidance of musical numbers. In more recent years, the distinction between commercial masala and parallel cinema has been gradually blurring, with an increasing number of mainstream films adopting the conventions which were once strictly associated with parallel cinema.\n"
     ]
    }
   ],
   "source": [
    "fd=open(\"html.txt\",\"r\")\n",
    "txt=fd.read()\n",
    "print(txt)\n",
    "fd.close()\n"
   ]
  },
  {
   "cell_type": "code",
   "execution_count": 6,
   "id": "1df98101-7745-4a5f-b238-545ceb866438",
   "metadata": {},
   "outputs": [
    {
     "data": {
      "text/plain": [
       "'Hindi cinema, popularly known as Bollywood and formerly as Bombay cinema,[3] refers to the film industry based in Mumbai, engaged in production of motion pictures in Hindi language. The popular term Bollywood is a portmanteau of \"Bombay\" (former name of Mumbai) and \"Hollywood\". The industry is a part of the larger Indian cinema, which also includes South Indian cinema and other smaller film industries.[4][5][6]\\n\\nIn 2017, Indian cinema produced 1,986 feature films, of which the largest number, 364 have been in Hindi.[4] As per data from 2014, Hindi cinema represented 43 percent of Indian net box-office revenue; Tamil and Telugu cinema represented 36 percent, and the remaining regional cinema constituted 21 percent.[7] Hindi cinema is one of the largest centres for film production in the world.[8][9][10] Hindi films sold an estimated 341 million tickets in India in 2019.[11][12] Earlier Hindi films tended to use vernacular Hindustani, mutually intelligible by speakers of either Hindi or Urdu, while modern Hindi productions increasingly incorporate elements of Hinglish.[13]\\n\\nThe most popular commercial genre in Hindi cinema since the 1970s has been the masala film, which freely mixes different genres including action, comedy, romance, drama and melodrama along with musical numbers.[14][15] Masala films generally fall under the musical film genre, of which Indian cinema has been the largest producer since the 1960s when it exceeded the American film industry\\'s total musical output after musical films declined in the West. Dadasaheb Phalke\\'s silent film Raja Harishchandra (1913) is the first feature length film made in India.[16] The first Indian musical talkie was Alam Ara (1931), four years after the first Hollywood sound film The Jazz Singer (1927).\\n\\nAlongside commercial masala films, a distinctive genre of art films known as parallel cinema has also existed, presenting realistic content and avoidance of musical numbers. In more recent years, the distinction between commercial masala and parallel cinema has been gradually blurring, with an increasing number of mainstream films adopting the conventions which were once strictly associated with parallel cinema.'"
      ]
     },
     "execution_count": 6,
     "metadata": {},
     "output_type": "execute_result"
    }
   ],
   "source": [
    "txt"
   ]
  },
  {
   "cell_type": "code",
   "execution_count": 7,
   "id": "21e42570-d769-4d01-830e-7735cfa498ac",
   "metadata": {},
   "outputs": [
    {
     "name": "stdout",
     "output_type": "stream",
     "text": [
      "Hindi cinema, popularly known as Bollywood and formerly as Bombay cinema,[3] refers to the film industry based in Mumbai, engaged in production of motion pictures in Hindi language. The popular term Bollywood is a portmanteau of \"Bombay\" (former name of Mumbai) and \"Hollywood\". The industry is a part of the larger Indian cinema, which also includes South Indian cinema and other smaller film industries.[4][5][6]\n",
      "\n",
      "In 2017, Indian cinema produced 1,986 feature films, of which the largest number, 364 have been in Hindi.[4] As per data from 2014, Hindi cinema represented 43 percent of Indian net box-office revenue; Tamil and Telugu cinema represented 36 percent, and the remaining regional cinema constituted 21 percent.[7] Hindi cinema is one of the largest centres for film production in the world.[8][9][10] Hindi films sold an estimated 341 million tickets in India in 2019.[11][12] Earlier Hindi films tended to use vernacular Hindustani, mutually intelligible by speakers of either Hindi or Urdu, while modern Hindi productions increasingly incorporate elements of Hinglish.[13]\n",
      "\n",
      "The most popular commercial genre in Hindi cinema since the 1970s has been the masala film, which freely mixes different genres including action, comedy, romance, drama and melodrama along with musical numbers.[14][15] Masala films generally fall under the musical film genre, of which Indian cinema has been the largest producer since the 1960s when it exceeded the American film industry's total musical output after musical films declined in the West. Dadasaheb Phalke's silent film Raja Harishchandra (1913) is the first feature length film made in India.[16] The first Indian musical talkie was Alam Ara (1931), four years after the first Hollywood sound film The Jazz Singer (1927).\n",
      "\n",
      "Alongside commercial masala films, a distinctive genre of art films known as parallel cinema has also existed, presenting realistic content and avoidance of musical numbers. In more recent years, the distinction between commercial masala and parallel cinema has been gradually blurring, with an increasing number of mainstream films adopting the conventions which were once strictly associated with parallel cinema.\n"
     ]
    }
   ],
   "source": [
    "print(txt)"
   ]
  },
  {
   "cell_type": "markdown",
   "id": "fc049cad-585b-44e0-ae4c-742ad873cb1f",
   "metadata": {},
   "source": [
    "# peragraph"
   ]
  },
  {
   "cell_type": "code",
   "execution_count": 21,
   "id": "488fbc88-77bb-46f1-94d3-93559538beed",
   "metadata": {},
   "outputs": [
    {
     "name": "stdout",
     "output_type": "stream",
     "text": [
      "4\n",
      "['Hindi cinema, popularly known as Bollywood and formerly as Bombay cinema,[3] refers to the film industry based in Mumbai, engaged in production of motion pictures in Hindi language. The popular term Bollywood is a portmanteau of \"Bombay\" (former name of Mumbai) and \"Hollywood\". The industry is a part of the larger Indian cinema, which also includes South Indian cinema and other smaller film industries.[4][5][6]', 'In 2017, Indian cinema produced 1,986 feature films, of which the largest number, 364 have been in Hindi.[4] As per data from 2014, Hindi cinema represented 43 percent of Indian net box-office revenue; Tamil and Telugu cinema represented 36 percent, and the remaining regional cinema constituted 21 percent.[7] Hindi cinema is one of the largest centres for film production in the world.[8][9][10] Hindi films sold an estimated 341 million tickets in India in 2019.[11][12] Earlier Hindi films tended to use vernacular Hindustani, mutually intelligible by speakers of either Hindi or Urdu, while modern Hindi productions increasingly incorporate elements of Hinglish.[13]', \"The most popular commercial genre in Hindi cinema since the 1970s has been the masala film, which freely mixes different genres including action, comedy, romance, drama and melodrama along with musical numbers.[14][15] Masala films generally fall under the musical film genre, of which Indian cinema has been the largest producer since the 1960s when it exceeded the American film industry's total musical output after musical films declined in the West. Dadasaheb Phalke's silent film Raja Harishchandra (1913) is the first feature length film made in India.[16] The first Indian musical talkie was Alam Ara (1931), four years after the first Hollywood sound film The Jazz Singer (1927).\", 'Alongside commercial masala films, a distinctive genre of art films known as parallel cinema has also existed, presenting realistic content and avoidance of musical numbers. In more recent years, the distinction between commercial masala and parallel cinema has been gradually blurring, with an increasing number of mainstream films adopting the conventions which were once strictly associated with parallel cinema.']\n"
     ]
    }
   ],
   "source": [
    "peragraph=txt.split(\"\\n\\n\")\n",
    "print(len(peragraph))\n",
    "print(peragraph)\n"
   ]
  },
  {
   "cell_type": "markdown",
   "id": "d4782b4b-aba0-4699-9a3e-7d7dfc3c84d5",
   "metadata": {},
   "source": [
    "# Lines"
   ]
  },
  {
   "cell_type": "code",
   "execution_count": 31,
   "id": "02f41e4b-ff3b-4a4b-9b0c-0dca9fb3135f",
   "metadata": {},
   "outputs": [
    {
     "name": "stdout",
     "output_type": "stream",
     "text": [
      "15\n",
      "14\n"
     ]
    }
   ],
   "source": [
    "line=txt.split(\".\")\n",
    "print(len(line))\n",
    "#print(line)\n",
    "print(len(line[:-1]))"
   ]
  },
  {
   "cell_type": "markdown",
   "id": "cea39265-df18-4ee5-a482-1d4b6b6175c4",
   "metadata": {},
   "source": [
    "# words"
   ]
  },
  {
   "cell_type": "code",
   "execution_count": 25,
   "id": "f6e3b58f-da25-4e25-ac0e-e268a0038616",
   "metadata": {},
   "outputs": [
    {
     "name": "stdout",
     "output_type": "stream",
     "text": [
      "327\n",
      "['Hindi', 'cinema,', 'popularly', 'known', 'as', 'Bollywood', 'and', 'formerly', 'as', 'Bombay', 'cinema,[3]', 'refers', 'to', 'the', 'film', 'industry', 'based', 'in', 'Mumbai,', 'engaged', 'in', 'production', 'of', 'motion', 'pictures', 'in', 'Hindi', 'language.', 'The', 'popular', 'term', 'Bollywood', 'is', 'a', 'portmanteau', 'of', '\"Bombay\"', '(former', 'name', 'of', 'Mumbai)', 'and', '\"Hollywood\".', 'The', 'industry', 'is', 'a', 'part', 'of', 'the', 'larger', 'Indian', 'cinema,', 'which', 'also', 'includes', 'South', 'Indian', 'cinema', 'and', 'other', 'smaller', 'film', 'industries.[4][5][6]\\n\\nIn', '2017,', 'Indian', 'cinema', 'produced', '1,986', 'feature', 'films,', 'of', 'which', 'the', 'largest', 'number,', '364', 'have', 'been', 'in', 'Hindi.[4]', 'As', 'per', 'data', 'from', '2014,', 'Hindi', 'cinema', 'represented', '43', 'percent', 'of', 'Indian', 'net', 'box-office', 'revenue;', 'Tamil', 'and', 'Telugu', 'cinema', 'represented', '36', 'percent,', 'and', 'the', 'remaining', 'regional', 'cinema', 'constituted', '21', 'percent.[7]', 'Hindi', 'cinema', 'is', 'one', 'of', 'the', 'largest', 'centres', 'for', 'film', 'production', 'in', 'the', 'world.[8][9][10]', 'Hindi', 'films', 'sold', 'an', 'estimated', '341', 'million', 'tickets', 'in', 'India', 'in', '2019.[11][12]', 'Earlier', 'Hindi', 'films', 'tended', 'to', 'use', 'vernacular', 'Hindustani,', 'mutually', 'intelligible', 'by', 'speakers', 'of', 'either', 'Hindi', 'or', 'Urdu,', 'while', 'modern', 'Hindi', 'productions', 'increasingly', 'incorporate', 'elements', 'of', 'Hinglish.[13]\\n\\nThe', 'most', 'popular', 'commercial', 'genre', 'in', 'Hindi', 'cinema', 'since', 'the', '1970s', 'has', 'been', 'the', 'masala', 'film,', 'which', 'freely', 'mixes', 'different', 'genres', 'including', 'action,', 'comedy,', 'romance,', 'drama', 'and', 'melodrama', 'along', 'with', 'musical', 'numbers.[14][15]', 'Masala', 'films', 'generally', 'fall', 'under', 'the', 'musical', 'film', 'genre,', 'of', 'which', 'Indian', 'cinema', 'has', 'been', 'the', 'largest', 'producer', 'since', 'the', '1960s', 'when', 'it', 'exceeded', 'the', 'American', 'film', \"industry's\", 'total', 'musical', 'output', 'after', 'musical', 'films', 'declined', 'in', 'the', 'West.', 'Dadasaheb', \"Phalke's\", 'silent', 'film', 'Raja', 'Harishchandra', '(1913)', 'is', 'the', 'first', 'feature', 'length', 'film', 'made', 'in', 'India.[16]', 'The', 'first', 'Indian', 'musical', 'talkie', 'was', 'Alam', 'Ara', '(1931),', 'four', 'years', 'after', 'the', 'first', 'Hollywood', 'sound', 'film', 'The', 'Jazz', 'Singer', '(1927).\\n\\nAlongside', 'commercial', 'masala', 'films,', 'a', 'distinctive', 'genre', 'of', 'art', 'films', 'known', 'as', 'parallel', 'cinema', 'has', 'also', 'existed,', 'presenting', 'realistic', 'content', 'and', 'avoidance', 'of', 'musical', 'numbers.', 'In', 'more', 'recent', 'years,', 'the', 'distinction', 'between', 'commercial', 'masala', 'and', 'parallel', 'cinema', 'has', 'been', 'gradually', 'blurring,', 'with', 'an', 'increasing', 'number', 'of', 'mainstream', 'films', 'adopting', 'the', 'conventions', 'which', 'were', 'once', 'strictly', 'associated', 'with', 'parallel', 'cinema.']\n"
     ]
    }
   ],
   "source": [
    "word=txt.split(\" \")\n",
    "print(len(word))\n",
    "print(word)"
   ]
  },
  {
   "cell_type": "code",
   "execution_count": null,
   "id": "69257fc8-0298-46bb-b6ff-a01cfe0f2d10",
   "metadata": {},
   "outputs": [],
   "source": []
  }
 ],
 "metadata": {
  "kernelspec": {
   "display_name": "Python 3 (ipykernel)",
   "language": "python",
   "name": "python3"
  },
  "language_info": {
   "codemirror_mode": {
    "name": "ipython",
    "version": 3
   },
   "file_extension": ".py",
   "mimetype": "text/x-python",
   "name": "python",
   "nbconvert_exporter": "python",
   "pygments_lexer": "ipython3",
   "version": "3.11.7"
  }
 },
 "nbformat": 4,
 "nbformat_minor": 5
}
